{
 "cells": [
  {
   "cell_type": "code",
   "execution_count": 7,
   "metadata": {
    "collapsed": true
   },
   "outputs": [],
   "source": [
    "import os\n",
    "import glob\n",
    "import copy\n",
    "\n",
    "import matplotlib.pyplot as plt\n",
    "import numpy as np\n",
    "\n",
    "from functools import reduce"
   ]
  },
  {
   "cell_type": "code",
   "execution_count": 8,
   "metadata": {
    "collapsed": false
   },
   "outputs": [
    {
     "name": "stdout",
     "output_type": "stream",
     "text": [
      "Quality.CHAOS\n",
      "Quality.DISTURBING\n",
      "Quality.DISGUSTING\n",
      "Quality.OFFENSIVE\n",
      "Quality.POSITIVE\n"
     ]
    }
   ],
   "source": [
    "from enum import Enum\n",
    "class Quality(Enum):\n",
    "     CHAOS = 1\n",
    "     DISTURBING = 2\n",
    "     DISGUSTING = 3\n",
    "     OFFENSIVE = 4\n",
    "     POSITIVE = 5\n",
    "\n",
    "for quality in Quality:\n",
    "    print(quality)\n",
    "\n",
    "ADJECTIVES = {\n",
    "    Quality.CHAOS:'chaotic',\n",
    "    Quality.DISTURBING:'disturbing',\n",
    "    Quality.DISGUSTING:'disgusting',\n",
    "    Quality.OFFENSIVE:'offensive',\n",
    "    Quality.POSITIVE:'positive'\n",
    "}\n",
    "\n",
    "NOUNS = {\n",
    "    Quality.CHAOS:'chaos',\n",
    "    Quality.DISTURBING:'disturbing quality',\n",
    "    Quality.DISGUSTING:'disgusting quality',\n",
    "    Quality.OFFENSIVE:'offensiveness',\n",
    "    Quality.POSITIVE:'positivity'\n",
    "}"
   ]
  },
  {
   "cell_type": "markdown",
   "metadata": {},
   "source": [
    "# Define data model"
   ]
  },
  {
   "cell_type": "code",
   "execution_count": 9,
   "metadata": {
    "collapsed": true
   },
   "outputs": [],
   "source": [
    "class Describable:\n",
    "    def __init__(self, children=[]):\n",
    "        self.quality = {}\n",
    "        self.qualities = {}\n",
    "        self.mean = {}\n",
    "        self.sums = {}\n",
    "        self.maxs = {}\n",
    "        self.children = []\n",
    "        self.rank = {}\n",
    "        self.top = {}\n",
    "        self.tops = 0\n",
    "        self.total_rank = 0\n",
    "        for quality in Quality:\n",
    "            self.quality[quality] = 0\n",
    "            self.qualities[quality] = []\n",
    "            self.mean[quality] = 0\n",
    "            self.sums[quality] = 0\n",
    "            self.maxs[quality] = 0\n",
    "        if len(children) > 0:\n",
    "            self.set_children(children)\n",
    "            \n",
    "    def __getitem__(self, key):\n",
    "        return self.quality[key]\n",
    "    \n",
    "    def __setitem__(self, key, value):\n",
    "        self.quality[key] = value\n",
    "    \n",
    "    def report(self):\n",
    "        for quality in Quality:\n",
    "            print(quality, self.mean[quality], self.maxs[quality], self.sums[quality])\n",
    "        print()\n",
    "    \n",
    "    def set_children(self, children):\n",
    "        self.children = children\n",
    "        for quality in Quality:\n",
    "            self.qualities[quality] = [c[quality] for c in self.children]\n",
    "            self.mean[quality] = np.mean(self.qualities[quality])\n",
    "            self.maxs[quality] = max(self.qualities[quality])\n",
    "            self.sums[quality] = sum(self.qualities[quality])\n",
    "            self[quality] = self.sums[quality]\n",
    "            \n",
    "            \n",
    "            ranks = sorted(range(len(self.children)), key=lambda i: -self.children[i][quality])\n",
    "            #ranks[0] is the index of the first-ranked child\n",
    "            for index, rank in enumerate(ranks):\n",
    "                self.children[rank].rank[quality] = index\n",
    "            for child in [c for c in self.children if c.rank[quality] <= 4]:\n",
    "                child.top[quality] = True\n",
    "                child.tops += 1\n",
    "            for child in self.children:\n",
    "                child.total_rank = sum(child.rank.values())"
   ]
  },
  {
   "cell_type": "code",
   "execution_count": 10,
   "metadata": {
    "collapsed": false
   },
   "outputs": [],
   "source": [
    "def load_data(path):\n",
    "    events = []\n",
    "    with open(path, 'r') as infile:\n",
    "        for line in infile:\n",
    "            events.append(ComEvent(line))\n",
    "    return events\n",
    "\n",
    "class ComEvent(Describable):\n",
    "    idn = \"\"\n",
    "    noun = \"\"\n",
    "    what_happened = \"\"\n",
    "    occurrence = None\n",
    "    def __init__(self, line):\n",
    "        Describable.__init__(self)\n",
    "        bits = line.strip().split(\";\")\n",
    "        self.idn = bits[0]\n",
    "        self.noun = bits[1] \n",
    "        self[Quality.DISTURBING] = float(bits[2])\n",
    "        self[Quality.DISGUSTING] = float(bits[3])\n",
    "        self[Quality.CHAOS] = float(bits[4])\n",
    "        self[Quality.OFFENSIVE] = float(bits[5])\n",
    "        self[Quality.POSITIVE] = float(bits[6])\n",
    "        self.what_happened = bits[7]\n",
    "    def __repr__(self):\n",
    "        return self.what_happened\n",
    "\n",
    "class Occurrence(Describable):\n",
    "    events = []\n",
    "    nouns = set()\n",
    "    idn = \"\"\n",
    "    def __init__(self, events):\n",
    "        Describable.__init__(self)\n",
    "        self.events = events\n",
    "        self.idn = events[0].idn\n",
    "        self.nouns = set([e.noun for e in events])\n",
    "        for e in self.events:\n",
    "            e.occurrence = self\n",
    "        \n",
    "        self.set_children(events)\n",
    "        \n",
    "    def report(self):\n",
    "        print('{}'.format(\"\\t\"+\"\\n\\t\".join([e.what_happened for e in self.events])))\n",
    "        print('--------------')\n",
    "        Describable.report(self)\n",
    "\n",
    "    def what_happened(self):\n",
    "        return \"\\n\".join([e.what_happened for e in self.events])\n",
    "    \n",
    "    def __repr__(self):\n",
    "        return \"\"\"<Occurrence {idn}>\n",
    "        {evts}\n",
    "        disturbing: {disturbing}\n",
    "        disgusting: {disgusting}\n",
    "        chaos: {chaos}\n",
    "        offensive: {offensive}\n",
    "        positive: {positive}\n",
    "        \"\"\".format(idn=self.idn,\n",
    "                  evts=self.what_happened(),\n",
    "                  disturbing=self[Quality.DISTURBING],\n",
    "                  disgusting=self[Quality.DISGUSTING],\n",
    "                  chaos=self[Quality.CHAOS],\n",
    "                  offensive=self[Quality.OFFENSIVE],\n",
    "                  positive=self[Quality.POSITIVE]\n",
    "                  )\n",
    "    \n",
    "class Commercial(Describable):\n",
    "    title = \"\"\n",
    "    events = []\n",
    "    def __init__(self, path):\n",
    "        Describable.__init__(self)\n",
    "        self.events = load_data(path)\n",
    "        self.title = path.split('_')[-1].split('.')[0]\n",
    "        \n",
    "        # generate occurrences\n",
    "        es = self.events.copy()\n",
    "        self.occurrences = []\n",
    "        while len(es) > 0:\n",
    "            e = es.pop()\n",
    "            occur = [x for x in es if x.idn == e.idn]\n",
    "            occur.append(e)\n",
    "            es = [x for x in es if x not in occur]\n",
    "            self.occurrences.append(Occurrence(occur))\n",
    "            \n",
    "        self.set_children(self.occurrences)\n",
    "    \n",
    "    def __repr__(self):\n",
    "        return \"<{}>\".format(self.title)"
   ]
  },
  {
   "cell_type": "code",
   "execution_count": 16,
   "metadata": {
    "collapsed": true
   },
   "outputs": [],
   "source": [
    "class Report():\n",
    "    report_type = \"\"\n",
    "    description = \"\"\n",
    "    def __init__(self, t, d):\n",
    "        self.report_type = t\n",
    "        self.description = d"
   ]
  },
  {
   "cell_type": "markdown",
   "metadata": {},
   "source": [
    "# Analysis functions"
   ]
  },
  {
   "cell_type": "code",
   "execution_count": 11,
   "metadata": {
    "collapsed": true
   },
   "outputs": [],
   "source": [
    "def commercial_notes(com):\n",
    "    notes = []\n",
    "    \n",
    "    ocs = copy.deepcopy(com.children)\n",
    "\n",
    "    labels = reduce(lambda x, y: x |y, [o.nouns for o in ocs])\n",
    "    label_sets = []\n",
    "    for label in labels:\n",
    "        label_set = Describable()\n",
    "        label_set.label = label\n",
    "        label_set.set_children([c for c in ocs if label in c.nouns])\n",
    "        label_sets.append(label_set)\n",
    "\n",
    "    all_labels = Describable(label_sets)\n",
    "\n",
    "    principal_labels = [x.label for x in sorted(all_labels.children, key=lambda x:x.total_rank)][0:3]\n",
    "    notes.append('the commercial is primarily characterized by {}, {}, and {}.'.format(*principal_labels))\n",
    "    \n",
    "    for label in principal_labels:\n",
    "        ls = [x for x in label_sets if x.label==label][0]\n",
    "        ls.frac = {}\n",
    "        for quality in Quality:\n",
    "            try:\n",
    "                ls.frac[quality] = ls[quality]/com[quality]\n",
    "            except:\n",
    "                ls.frac[quality] = -1\n",
    "        nouns = [NOUNS[key] for key, value in ls.frac.items() if value > 0.5]\n",
    "        if len(nouns) > 0:\n",
    "            \n",
    "            note = 'the {} is notable for its '.format(label)+str(nouns)\n",
    "            notes.append(note)\n",
    "        \n",
    "    return notes"
   ]
  },
  {
   "cell_type": "code",
   "execution_count": 12,
   "metadata": {
    "collapsed": true
   },
   "outputs": [],
   "source": [
    "def note_events(com):\n",
    "    notes = []\n",
    "    frequent_qualities = sorted(Quality, key=lambda q: -com.mean[q])[0:2]\n",
    "    notes.append('the events of this commercial are frequently {} and {}'.format(*list(map(ADJECTIVES.__getitem__, frequent_qualities))))\n",
    "\n",
    "    # given the commercial's high average chaos, this event embodies the chaotic nature of the commercial\n",
    "    x = sorted(com.children, key=lambda o: o.rank[frequent_qualities[0]])[0]\n",
    "    notes.append('the climax of the commercial was when ' + x.what_happened())\n",
    "    \n",
    "    x = sorted(com.children, key=lambda o: o.rank[frequent_qualities[1]])[0]\n",
    "    notes.append('the second climax of the commercial was when ' + x.what_happened())\n",
    "\n",
    "    # notable event: stands out by several metrics\n",
    "    x = sorted(com.children, key=lambda o: o.tops)[0]\n",
    "    notes.append('it was memorable when '+ x.what_happened())\n",
    "    return notes"
   ]
  },
  {
   "cell_type": "markdown",
   "metadata": {},
   "source": [
    "# Load commercials"
   ]
  },
  {
   "cell_type": "code",
   "execution_count": 13,
   "metadata": {
    "collapsed": false
   },
   "outputs": [
    {
     "data": {
      "text/plain": [
       "[<8bdb8470-8b25-4484-aa09-34c2592bbb42>,\n",
       " <71685811-ade5-405e-bae5-859b1be2fa68>,\n",
       " <c7419462-1ccc-4a35-8022-c1689c5ddf27>,\n",
       " <be27029d-4b17-40b8-a397-abceb8b89485>,\n",
       " <258f36b2-2ad3-446b-a132-3034dcc4c89f>,\n",
       " <849989cd-1ca6-45c6-b047-74fac01322f9>,\n",
       " <9801811f-4c07-4914-ac18-ceceb5481b10>,\n",
       " <876e91d6-90d5-41f8-9a30-761f0dd6eb30>,\n",
       " <7d9e9681-069e-4105-a2b4-efac14000dda>,\n",
       " <dc47ebf1-98b7-463c-b72d-f1a8b27a37f5>,\n",
       " <6d731e4b-9484-493a-b291-578f9e4c58b7>,\n",
       " <57ff9ae1-6fb6-4fef-b3b3-606e53c71249>]"
      ]
     },
     "execution_count": 13,
     "metadata": {},
     "output_type": "execute_result"
    }
   ],
   "source": [
    "commercials = []\n",
    "for path in glob.glob('/Users/RSHAW/Library/Application Support/EpicBanana/Yogurt Commercial 3/commercial_events_*'):\n",
    "    commercials.append(Commercial(path))\n",
    "\n",
    "\n",
    "commercials"
   ]
  },
  {
   "cell_type": "code",
   "execution_count": 14,
   "metadata": {
    "collapsed": true
   },
   "outputs": [],
   "source": [
    "def analyze(com):\n",
    "    # total qualities and quality per occurrence\n",
    "    com.report()\n",
    "    print('\\n'.join(commercial_notes(com)))\n",
    "    print('\\n'.join(note_events(com)))"
   ]
  },
  {
   "cell_type": "code",
   "execution_count": 15,
   "metadata": {
    "collapsed": false
   },
   "outputs": [
    {
     "name": "stdout",
     "output_type": "stream",
     "text": [
      "Quality.CHAOS 0.5 3.0 9.0\n",
      "Quality.DISTURBING 0.111111111111 2.0 2.0\n",
      "Quality.DISGUSTING 0.555555555556 4.0 10.0\n",
      "Quality.OFFENSIVE 0.0 0.0 0.0\n",
      "Quality.POSITIVE 0.111111111111 1.0 2.0\n",
      "\n",
      "the commercial is primarily characterized by eating, vomiting yogurt, and yogurt eating.\n",
      "the eating is notable for its ['chaos', 'disgusting quality', 'positivity']\n",
      "the vomiting yogurt is notable for its ['disturbing quality']\n",
      "the yogurt eating is notable for its ['chaos', 'disgusting quality', 'positivity']\n",
      "the events of this commercial are frequently disgusting and chaotic\n",
      "the climax of the commercial was when test vomited up vomited-up puddle of yogurt\n",
      "test vomited up yogurt\n",
      "the second climax of the commercial was when test vomited up vomited-up puddle of yogurt\n",
      "test vomited up yogurt\n",
      "it was memorable when test said Yuck\n"
     ]
    }
   ],
   "source": [
    "analyze(commercials[8])"
   ]
  },
  {
   "cell_type": "code",
   "execution_count": 211,
   "metadata": {
    "collapsed": true
   },
   "outputs": [],
   "source": [
    "# peaks:\n",
    "# compare max to mean?\n",
    "\n",
    "# mean different peaked qualities = hard to pay attention to, jumbled\n",
    "# no peaked qualities: boring, bland, lifeless\n",
    "\n",
    "\n",
    "# characterized by a strong sense of morbidity\n",
    "# flirting dangerously with \n",
    "\n",
    "# populate a number of statements. remove any statement with a duplicate description.\n",
    "\n",
    "# time series?"
   ]
  },
  {
   "cell_type": "code",
   "execution_count": null,
   "metadata": {
    "collapsed": true
   },
   "outputs": [],
   "source": []
  },
  {
   "cell_type": "markdown",
   "metadata": {},
   "source": [
    "wretched\n",
    "\n",
    "\n",
    "focus group:\n",
    "find notable occurrence, describe liked/didnt like, and why\n",
    "\n",
    "describe commercial as a whole\n",
    "it is a yogurt commercial. it is puzzling if it veers off into territory that is very disgusting, disturbing,\n",
    "find the climax of the commercial\n",
    "\n",
    "\"the star repeatedly vomited yogurt\"\n",
    "\"flirting dangerously with madness, the commercial \"\n",
    "\"in what is supposed to be a yogurt commercial,\"\n",
    "\n",
    "legal notice\n"
   ]
  }
 ],
 "metadata": {
  "anaconda-cloud": {},
  "kernelspec": {
   "display_name": "Python [conda env:py3]",
   "language": "python",
   "name": "conda-env-py3-py"
  },
  "language_info": {
   "codemirror_mode": {
    "name": "ipython",
    "version": 3
   },
   "file_extension": ".py",
   "mimetype": "text/x-python",
   "name": "python",
   "nbconvert_exporter": "python",
   "pygments_lexer": "ipython3",
   "version": "3.6.2"
  }
 },
 "nbformat": 4,
 "nbformat_minor": 1
}
