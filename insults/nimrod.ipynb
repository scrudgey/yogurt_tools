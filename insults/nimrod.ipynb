{
 "cells": [
  {
   "cell_type": "code",
   "execution_count": null,
   "metadata": {
    "collapsed": false
   },
   "outputs": [],
   "source": [
    "!pip install --upgrade nimrod"
   ]
  },
  {
   "cell_type": "code",
   "execution_count": 26,
   "metadata": {
    "collapsed": false
   },
   "outputs": [],
   "source": [
    "from nimrod import Grammar\n",
    "import re\n",
    "import random"
   ]
  },
  {
   "cell_type": "code",
   "execution_count": 73,
   "metadata": {
    "collapsed": false
   },
   "outputs": [
    {
     "name": "stdout",
     "output_type": "stream",
     "text": [
      "You ten-cent coward, piss my piss!\n",
      "Were you just on your way to take a hike?.\n",
      "I find your personal failure offensive, eat a dick!\n",
      "Are you upset because your KKK fundraiser was canceled??, eat a dick.\n",
      "I'm not afraid of a certified extra-fancy-ass technocrat like you, you belong in the industrial waste runoff sluice!\n",
      "Are you upset because you want to suck a snow leopard's smelly dick but can't find one?.\n",
      "Did I interrupt your William H. Macy fanclub fundraiser?!\n",
      "What sewer did you just break out of?, get fucked.\n",
      "Who's this motherfucker? I'm not afraid of a macrocephalic male camel-looking trash golem like you.\n",
      "Get a load of a near-sighted wanna-be toilet person! You are a clown!\n",
      "You are a phylloxera!\n",
      "You are a transparent ten-cent blowjob!\n",
      "What septic tank do you hail from?, you belong in the graveyard.\n",
      "Who's this asshole? I find your conviction for racketeering repulsive, fuck off.\n",
      "I find your lack of rigor repellant!\n",
      "I find your general air of superiority offensive.\n",
      "You smelly wanna-be Cary Grant, why don't you take a hike!\n",
      "What insane asylum do you call home?, suck a male camel's ass!\n",
      "I'm not afraid of a loathsome ten-cent baby-snatcher like you, suck a European bison's cock!\n",
      "Who's this asshole? You sea-gherkin!\n"
     ]
    }
   ],
   "source": [
    "g = Grammar()\n",
    "\n",
    "g.load('./insult')\n",
    "\n",
    "g.symbols.keys()\n",
    "\n",
    "\n",
    "g.symbols['mister'] = ['mister']\n",
    "\n",
    "for _ in range(20):\n",
    "    print(g.parse('{main}'))"
   ]
  },
  {
   "cell_type": "code",
   "execution_count": 76,
   "metadata": {
    "collapsed": false
   },
   "outputs": [
    {
     "name": "stdout",
     "output_type": "stream",
     "text": [
      "Ugh! Screw this outsider-art-looking eggplant!, this eggplant can get fucked.\n",
      "Ugh! Didn't I see one just like this, in the graveyard?!\n",
      "Screw this ripoff eggplant!, get real!\n",
      "Screw this outsider-art-ass eggplant!, this eggplant can get fucked!\n",
      "Yuck! What carnival-sideshow-looking ten-cent eggplant.\n",
      "Screw this crappy eggplant!, this eggplant can get fucked!\n",
      "Ugh! What unfashionable assness, get real!\n",
      "What bottom-shelf unfashionable trash, get real!\n",
      "Ugh! Didn't I see one just like this, in the waste treatment plant?.\n",
      "Yuck! Screw this discount eggplant!, this eggplant can get fucked.\n",
      "Yuck! Shouldn't this be in the trash?!\n",
      "Yuck! Screw this costing-10-cents-on-alibaba-ass eggplant!.\n",
      "What a free-with-a-box-of-cereal-looking mockery of a eggplant, this eggplant can get fucked!\n",
      "What a unfashionable trinket.\n",
      "Ugh! Screw this ten-cent eggplant!.\n",
      "Screw this bottom-of-the-barrel-ass eggplant!!\n",
      "Yuck! What a ten-cent substitute for a eggplant.\n",
      "What crappy ten-cent garbage.\n",
      "What unfashionable eggplant!\n",
      "Yuck! Shouldn't this be in the trash?.\n"
     ]
    }
   ],
   "source": [
    "g = Grammar()\n",
    "\n",
    "g.load('./insult_inanimate')\n",
    "\n",
    "g.symbols.keys()\n",
    "\n",
    "g.symbols['object'] = ['eggplant']\n",
    "\n",
    "for _ in range(20):\n",
    "    print(g.parse('{main}'))"
   ]
  },
  {
   "cell_type": "code",
   "execution_count": null,
   "metadata": {
    "collapsed": true
   },
   "outputs": [],
   "source": []
  }
 ],
 "metadata": {
  "anaconda-cloud": {},
  "kernelspec": {
   "display_name": "Python [default]",
   "language": "python",
   "name": "python2"
  },
  "language_info": {
   "codemirror_mode": {
    "name": "ipython",
    "version": 2
   },
   "file_extension": ".py",
   "mimetype": "text/x-python",
   "name": "python",
   "nbconvert_exporter": "python",
   "pygments_lexer": "ipython2",
   "version": "2.7.12"
  }
 },
 "nbformat": 4,
 "nbformat_minor": 1
}
