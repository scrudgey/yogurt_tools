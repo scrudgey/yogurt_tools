{
 "cells": [
  {
   "cell_type": "markdown",
   "metadata": {},
   "source": [
    "# A demonstration of creating and populating a traversible puzzle network"
   ]
  },
  {
   "cell_type": "code",
   "execution_count": 167,
   "metadata": {
    "collapsed": false
   },
   "outputs": [],
   "source": [
    "from IPython.core.interactiveshell import InteractiveShell\n",
    "InteractiveShell.ast_node_interactivity = \"all\"\n",
    "import puzz"
   ]
  },
  {
   "cell_type": "markdown",
   "metadata": {},
   "source": [
    "## Create a basic network"
   ]
  },
  {
   "cell_type": "code",
   "execution_count": 168,
   "metadata": {
    "collapsed": false
   },
   "outputs": [
    {
     "data": {
      "text/plain": [
       "{'a1': <puzz.Ability at 0x110c2dd10>,\n",
       " 'a2': <puzz.Ability at 0x110c2de50>,\n",
       " 'a3': <puzz.Ability at 0x1118a7950>,\n",
       " 'a4': <puzz.Ability at 0x1118a7bd0>,\n",
       " 'a5': <puzz.Ability at 0x1118a7a50>,\n",
       " 'o1': <puzz.Node at 0x111e7d1d0>,\n",
       " 'o2': <puzz.Node at 0x111bd4090>,\n",
       " 'o3': <puzz.Node at 0x11174b910>,\n",
       " 'o4': <puzz.Node at 0x1118a7590>,\n",
       " 'o5': <puzz.Node at 0x1118a7350>,\n",
       " 'start': <puzz.Node at 0x110c2d2d0>}"
      ]
     },
     "execution_count": 168,
     "metadata": {},
     "output_type": "execute_result"
    },
    {
     "data": {
      "text/plain": [
       "{'a1': {'start'}, 'a2': {'start'}, 'start': set()}"
      ]
     },
     "execution_count": 168,
     "metadata": {},
     "output_type": "execute_result"
    }
   ],
   "source": [
    "# initialize the network object with initial abilities a1 and a2\n",
    "net = puzz.Network(['a1', 'a2'])\n",
    "\n",
    "# create a few more obstacles and abilities\n",
    "net.add_obstacle('o1')\n",
    "net.add_obstacle('o2')\n",
    "net.add_obstacle('o3')\n",
    "net.add_obstacle('o4')\n",
    "net.add_obstacle('o5')\n",
    "\n",
    "net.add_ability('a3')\n",
    "net.add_ability('a4')\n",
    "net.add_ability('a5')\n",
    "\n",
    "# print all of the node instances\n",
    "net.nodes\n",
    "\n",
    "# print the current graph\n",
    "net.net"
   ]
  },
  {
   "cell_type": "code",
   "execution_count": 169,
   "metadata": {
    "collapsed": false
   },
   "outputs": [],
   "source": [
    "# define which abilities defeat which obstacles\n",
    "# note: a1, a3, and a5 all defeat o1.\n",
    "net.defeats('a1', 'o1')\n",
    "\n",
    "net.defeats('a2', 'o2')\n",
    "\n",
    "net.defeats('a3', 'o3')\n",
    "net.defeats('a3', 'o1')\n",
    "\n",
    "net.defeats('a4', 'o4')\n",
    "\n",
    "net.defeats('a5', 'o5')\n",
    "net.defeats('a5', 'o1')"
   ]
  },
  {
   "cell_type": "code",
   "execution_count": 170,
   "metadata": {
    "collapsed": false
   },
   "outputs": [
    {
     "data": {
      "text/plain": [
       "{'o1': {'a1'}, 'o2': {'a2'}}"
      ]
     },
     "execution_count": 170,
     "metadata": {},
     "output_type": "execute_result"
    },
    {
     "data": {
      "text/plain": [
       "{'o1': {'a1'}, 'o2': {'a2'}}"
      ]
     },
     "execution_count": 170,
     "metadata": {},
     "output_type": "execute_result"
    }
   ],
   "source": [
    "# check which nodes we can place next in the graph, after a1 and a2\n",
    "net.enabled_nodes('a1', suppress_live=True)\n",
    "net.enabled_nodes('a2', suppress_live=True)"
   ]
  },
  {
   "cell_type": "markdown",
   "metadata": {},
   "source": [
    "enabled_nodes(node) returns a dictionary whose keys are the nodes that are placable after node, the values are the reasons why the node can be placed there.\n",
    "\n",
    "An obstacle can be placed anywhere as long as the ability to defeat it already exists somewhere in the network. If an ability is already in the network, it is accessible to the player because of this definition."
   ]
  },
  {
   "cell_type": "markdown",
   "metadata": {},
   "source": [
    "## Growing the graph"
   ]
  },
  {
   "cell_type": "code",
   "execution_count": 171,
   "metadata": {
    "collapsed": false
   },
   "outputs": [
    {
     "data": {
      "text/plain": [
       "{'a1': {'start'}, 'a2': {'start'}, 'o1': {'a1'}, 'o2': {'a2'}, 'start': set()}"
      ]
     },
     "execution_count": 171,
     "metadata": {},
     "output_type": "execute_result"
    }
   ],
   "source": [
    "# place o1 after a1\n",
    "net.add_connection('a1', 'o1')\n",
    "\n",
    "# place o2 after a2\n",
    "net.add_connection('a2', 'o2')\n",
    "\n",
    "net.net"
   ]
  },
  {
   "cell_type": "code",
   "execution_count": 172,
   "metadata": {
    "collapsed": false
   },
   "outputs": [
    {
     "data": {
      "text/plain": [
       "{'a4': set()}"
      ]
     },
     "execution_count": 172,
     "metadata": {},
     "output_type": "execute_result"
    },
    {
     "data": {
      "text/plain": [
       "{'a3': {'a1'}, 'a4': set(), 'a5': {'a1'}}"
      ]
     },
     "execution_count": 172,
     "metadata": {},
     "output_type": "execute_result"
    }
   ],
   "source": [
    "# desired behavior: a3 and a5 eclipse a1. so you should only be able to\n",
    "# place them strictly after a1.\n",
    "\n",
    "# check which nodes we can place after o2\n",
    "net.enabled_nodes('o2', suppress_live=True)\n",
    "\n",
    "# notice that nodes after o1 contain a1 in their past.\n",
    "# therefore we can place the eclipsed a3 and a5 after o1.\n",
    "net.enabled_nodes('o1', suppress_live=True)"
   ]
  },
  {
   "cell_type": "markdown",
   "metadata": {},
   "source": [
    "Ability a1 **eclipses** ability a2 if a1 can defeat all of the obstacles a2 can defeat. If a1 eclipses a2, then we must ensure that the player aquires a2 first, otherwise a2 serves no purpose. In terms of the directed network, this means that a2 must be somewhere in the path between start and a1: these nodes are guaranteed to have been visited by the time the player gets to a1.\n",
    "\n",
    "The idea here is that you don't want the player to aquire invincibility before armor, for example."
   ]
  },
  {
   "cell_type": "markdown",
   "metadata": {},
   "source": [
    "## Visualize the network"
   ]
  },
  {
   "cell_type": "code",
   "execution_count": 173,
   "metadata": {
    "collapsed": false
   },
   "outputs": [
    {
     "data": {
      "image/png": "[encoded data removed]",
      "text/plain": [
       "<matplotlib.figure.Figure at 0x1112c5e10>"
      ]
     },
     "metadata": {},
     "output_type": "display_data"
    }
   ],
   "source": [
    "net.plot()"
   ]
  },
  {
   "cell_type": "markdown",
   "metadata": {},
   "source": [
    "## Add an AND condition"
   ]
  },
  {
   "cell_type": "code",
   "execution_count": 174,
   "metadata": {
    "collapsed": false
   },
   "outputs": [
    {
     "data": {
      "text/plain": [
       "{'o3': {'a3'}}"
      ]
     },
     "execution_count": 174,
     "metadata": {},
     "output_type": "execute_result"
    },
    {
     "data": {
      "text/plain": [
       "{'o3': {'a3'}, 'o4': {'a4'}, 'o6': {('a3', 'a4')}}"
      ]
     },
     "execution_count": 174,
     "metadata": {},
     "output_type": "execute_result"
    }
   ],
   "source": [
    "# obstacle o6 requires both a3 and a4 to be defeated.\n",
    "net.add_obstacle('o6')\n",
    "net.defeats(('a3', 'a4'), 'o6')\n",
    "\n",
    "# the player unlocks a3.\n",
    "net.add_connection('o1', 'a3')\n",
    "\n",
    "# show the obstacles that we could add after a3.\n",
    "# it does not include o6 because we haven't unlocked a4 yet.\n",
    "net.enabled_nodes('a3', suppress_live=True)\n",
    "\n",
    "# the player unlocks a4 off the other branch of the graph.\n",
    "net.add_connection('o2', 'a4')\n",
    "\n",
    "# now that both a3 and a4 are unlocked, o6 is enabled\n",
    "net.enabled_nodes('a4', suppress_live=True)\\\n",
    "\n",
    "# let's add o6 after a4.\n",
    "net.add_connection('a4', 'o6')"
   ]
  },
  {
   "cell_type": "code",
   "execution_count": 175,
   "metadata": {
    "collapsed": false
   },
   "outputs": [],
   "source": [
    "# for clarity, let's have o6 then unlock a new ability, a5\n",
    "net.add_connection('o6', 'a5')\n",
    "\n",
    "# let's also add an endpoint obstacle\n",
    "net.add_obstacle('end')\n",
    "net.defeats('a5', 'end')\n",
    "net.add_connection('a5', 'end')"
   ]
  },
  {
   "cell_type": "code",
   "execution_count": 176,
   "metadata": {
    "collapsed": false
   },
   "outputs": [
    {
     "data": {
      "image/png": "[encoded data removed]",
      "text/plain": [
       "<matplotlib.figure.Figure at 0x1111692d0>"
      ]
     },
     "metadata": {},
     "output_type": "display_data"
    }
   ],
   "source": [
    "# redraw the graph to show the results\n",
    "net.plot()"
   ]
  }
 ],
 "metadata": {
  "anaconda-cloud": {},
  "kernelspec": {
   "display_name": "Python [default]",
   "language": "python",
   "name": "python2"
  },
  "language_info": {
   "codemirror_mode": {
    "name": "ipython",
    "version": 2
   },
   "file_extension": ".py",
   "mimetype": "text/x-python",
   "name": "python",
   "nbconvert_exporter": "python",
   "pygments_lexer": "ipython2",
   "version": "2.7.12"
  }
 },
 "nbformat": 4,
 "nbformat_minor": 1
}
