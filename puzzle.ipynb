{
 "cells": [
  {
   "cell_type": "markdown",
   "metadata": {},
   "source": [
    "# A demonstration of creating and populating a traversible puzzle network"
   ]
  },
  {
   "cell_type": "code",
   "execution_count": 112,
   "metadata": {
    "collapsed": false
   },
   "outputs": [],
   "source": [
    "from IPython.core.interactiveshell import InteractiveShell\n",
    "InteractiveShell.ast_node_interactivity = \"all\"\n",
    "import puzz"
   ]
  },
  {
   "cell_type": "markdown",
   "metadata": {},
   "source": [
    "## Create a basic network"
   ]
  },
  {
   "cell_type": "code",
   "execution_count": 113,
   "metadata": {
    "collapsed": false
   },
   "outputs": [
    {
     "data": {
      "text/plain": [
       "{'a1': <puzz.Ability at 0x1068b2c50>,\n",
       " 'a2': <puzz.Ability at 0x1068b2910>,\n",
       " 'a3': <puzz.Ability at 0x1068b2890>,\n",
       " 'a4': <puzz.Ability at 0x1068b2bd0>,\n",
       " 'a5': <puzz.Ability at 0x1068b2c90>,\n",
       " 'o1': <puzz.Node at 0x1068b2b50>,\n",
       " 'o2': <puzz.Node at 0x1068b2a10>,\n",
       " 'o3': <puzz.Node at 0x1068b28d0>,\n",
       " 'o4': <puzz.Node at 0x1068b2a50>,\n",
       " 'o5': <puzz.Node at 0x1068b2950>,\n",
       " 'start': <puzz.Node at 0x1068b2cd0>}"
      ]
     },
     "execution_count": 113,
     "metadata": {},
     "output_type": "execute_result"
    },
    {
     "data": {
      "text/plain": [
       "{'a1': ['start'], 'a2': ['start'], 'start': []}"
      ]
     },
     "execution_count": 113,
     "metadata": {},
     "output_type": "execute_result"
    }
   ],
   "source": [
    "# initialize the network object with initial abilities a1 and a2\n",
    "net = puzz.Network(['a1', 'a2'])\n",
    "\n",
    "# create a few more obstacles and abilities\n",
    "net.add_obstacle('o1')\n",
    "net.add_obstacle('o2')\n",
    "net.add_obstacle('o3')\n",
    "net.add_obstacle('o4')\n",
    "net.add_obstacle('o5')\n",
    "\n",
    "net.add_ability('a3')\n",
    "net.add_ability('a4')\n",
    "net.add_ability('a5')\n",
    "\n",
    "# print all of the node instances\n",
    "net.nodes\n",
    "\n",
    "# print the current graph\n",
    "net.net"
   ]
  },
  {
   "cell_type": "code",
   "execution_count": 114,
   "metadata": {
    "collapsed": false
   },
   "outputs": [],
   "source": [
    "# define which abilities defeat which obstacles\n",
    "# note: a1, a3, and a5 all defeat o1.\n",
    "net.defeats('a1', 'o1')\n",
    "\n",
    "net.defeats('a2', 'o2')\n",
    "\n",
    "net.defeats('a3', 'o3')\n",
    "net.defeats('a3', 'o1')\n",
    "\n",
    "net.defeats('a4', 'o4')\n",
    "\n",
    "net.defeats('a5', 'o1')\n",
    "net.defeats('a5', 'o5')\n",
    "\n",
    "net.calc_ability_prereqs()"
   ]
  },
  {
   "cell_type": "code",
   "execution_count": 115,
   "metadata": {
    "collapsed": false
   },
   "outputs": [
    {
     "data": {
      "text/plain": [
       "{'a3', 'a4', 'a5', 'o1', 'o2'}"
      ]
     },
     "execution_count": 115,
     "metadata": {},
     "output_type": "execute_result"
    },
    {
     "data": {
      "text/plain": [
       "{'a4', 'o1', 'o2'}"
      ]
     },
     "execution_count": 115,
     "metadata": {},
     "output_type": "execute_result"
    }
   ],
   "source": [
    "# desired behavior: a3 and a5 eclipse a1. so you should only be able to\n",
    "# place them strictly after a1.\n",
    "\n",
    "# check which nodes we can place next in the graph, after a1 and a2\n",
    "net.enabled_nodes('a1')\n",
    "net.enabled_nodes('a2')"
   ]
  },
  {
   "cell_type": "markdown",
   "metadata": {},
   "source": [
    "## Demonstration of growing the graph"
   ]
  },
  {
   "cell_type": "code",
   "execution_count": 116,
   "metadata": {
    "collapsed": false
   },
   "outputs": [
    {
     "data": {
      "text/plain": [
       "{'a1': ['start'], 'a2': ['start'], 'o1': ['a1'], 'o2': ['a2'], 'start': []}"
      ]
     },
     "execution_count": 116,
     "metadata": {},
     "output_type": "execute_result"
    }
   ],
   "source": [
    "# place o1 after a1\n",
    "net.add_connection('a1', 'o1')\n",
    "\n",
    "# place o2 after a2\n",
    "net.add_connection('a2', 'o2')\n",
    "\n",
    "net.net"
   ]
  },
  {
   "cell_type": "code",
   "execution_count": 119,
   "metadata": {
    "collapsed": false
   },
   "outputs": [
    {
     "data": {
      "text/plain": [
       "{'a4'}"
      ]
     },
     "execution_count": 119,
     "metadata": {},
     "output_type": "execute_result"
    },
    {
     "data": {
      "text/plain": [
       "{'a3', 'a4', 'a5'}"
      ]
     },
     "execution_count": 119,
     "metadata": {},
     "output_type": "execute_result"
    }
   ],
   "source": [
    "# check which nodes we can place after o2\n",
    "net.enabled_nodes('o2')\n",
    "\n",
    "# notice that nodes after o1 contain a1 in their past.\n",
    "# therefore we can place the eclipsed a3 and a5 after o1.\n",
    "net.enabled_nodes('o1')"
   ]
  }
 ],
 "metadata": {
  "anaconda-cloud": {},
  "kernelspec": {
   "display_name": "Python [default]",
   "language": "python",
   "name": "python2"
  },
  "language_info": {
   "codemirror_mode": {
    "name": "ipython",
    "version": 2
   },
   "file_extension": ".py",
   "mimetype": "text/x-python",
   "name": "python",
   "nbconvert_exporter": "python",
   "pygments_lexer": "ipython2",
   "version": "2.7.12"
  }
 },
 "nbformat": 4,
 "nbformat_minor": 1
}
