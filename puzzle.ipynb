{
 "cells": [
  {
   "cell_type": "markdown",
   "metadata": {},
   "source": [
    "# A demonstration of creating and populating a traversible puzzle network"
   ]
  },
  {
   "cell_type": "code",
   "execution_count": 1,
   "metadata": {
    "collapsed": false
   },
   "outputs": [],
   "source": [
    "from IPython.core.interactiveshell import InteractiveShell\n",
    "InteractiveShell.ast_node_interactivity = \"all\"\n",
    "import puzz\n",
    "import matplotlib.pyplot as plt\n",
    "import networkx as nx"
   ]
  },
  {
   "cell_type": "markdown",
   "metadata": {},
   "source": [
    "## Create a basic network"
   ]
  },
  {
   "cell_type": "code",
   "execution_count": 2,
   "metadata": {
    "collapsed": false
   },
   "outputs": [
    {
     "data": {
      "text/plain": [
       "{'a1': <puzz.Ability at 0x10e1a9490>,\n",
       " 'a2': <puzz.Ability at 0x10e1a94d0>,\n",
       " 'a3': <puzz.Ability at 0x10e1a9590>,\n",
       " 'a4': <puzz.Ability at 0x10e1a95d0>,\n",
       " 'a5': <puzz.Ability at 0x10e1a9610>,\n",
       " 'o1': <puzz.Node at 0x10e1a93d0>,\n",
       " 'o2': <puzz.Node at 0x10e1a9450>,\n",
       " 'o3': <puzz.Node at 0x10e1a9350>,\n",
       " 'o4': <puzz.Node at 0x10e1a9510>,\n",
       " 'o5': <puzz.Node at 0x10e1a9550>,\n",
       " 'start': <puzz.Node at 0x10e1a9410>}"
      ]
     },
     "execution_count": 2,
     "metadata": {},
     "output_type": "execute_result"
    },
    {
     "data": {
      "text/plain": [
       "{'a1': {'start'}, 'a2': {'start'}, 'start': set()}"
      ]
     },
     "execution_count": 2,
     "metadata": {},
     "output_type": "execute_result"
    }
   ],
   "source": [
    "# initialize the network object with initial abilities a1 and a2\n",
    "net = puzz.Network(['a1', 'a2'])\n",
    "\n",
    "# create a few more obstacles and abilities\n",
    "net.add_obstacle('o1')\n",
    "net.add_obstacle('o2')\n",
    "net.add_obstacle('o3')\n",
    "net.add_obstacle('o4')\n",
    "net.add_obstacle('o5')\n",
    "\n",
    "net.add_ability('a3')\n",
    "net.add_ability('a4')\n",
    "net.add_ability('a5')\n",
    "\n",
    "# print all of the node instances\n",
    "net.nodes\n",
    "\n",
    "# print the current graph\n",
    "net.net"
   ]
  },
  {
   "cell_type": "code",
   "execution_count": 3,
   "metadata": {
    "collapsed": false
   },
   "outputs": [],
   "source": [
    "# define which abilities defeat which obstacles\n",
    "# note: a1, a3, and a5 all defeat o1.\n",
    "net.defeats('a1', 'o1')\n",
    "\n",
    "net.defeats('a2', 'o2')\n",
    "\n",
    "net.defeats('a3', 'o3')\n",
    "net.defeats('a3', 'o1')\n",
    "\n",
    "net.defeats('a4', 'o4')\n",
    "\n",
    "net.defeats('a5', 'o5')\n",
    "net.defeats('a5', 'o1')\n",
    "\n",
    "net.calc_ability_eclipses()"
   ]
  },
  {
   "cell_type": "code",
   "execution_count": 4,
   "metadata": {
    "collapsed": false
   },
   "outputs": [
    {
     "data": {
      "text/plain": [
       "{'o1': {'a1'}, 'o2': {'a2'}}"
      ]
     },
     "execution_count": 4,
     "metadata": {},
     "output_type": "execute_result"
    },
    {
     "data": {
      "text/plain": [
       "{'o1': {'a1'}, 'o2': {'a2'}}"
      ]
     },
     "execution_count": 4,
     "metadata": {},
     "output_type": "execute_result"
    }
   ],
   "source": [
    "# check which nodes we can place next in the graph, after a1 and a2\n",
    "net.enabled_nodes('a1', suppress_live=True)\n",
    "net.enabled_nodes('a2', suppress_live=True)"
   ]
  },
  {
   "cell_type": "markdown",
   "metadata": {},
   "source": [
    "enabled_nodes(node) returns a dictionary whose keys are the nodes that are placable after node, the values are the reasons why the node can be placed there.\n",
    "\n",
    "An obstacle can be placed anywhere as long as the ability to defeat it already exists somewhere in the network. If an ability is already in the network, it is accessible to the player by definition."
   ]
  },
  {
   "cell_type": "markdown",
   "metadata": {},
   "source": [
    "## Growing the graph"
   ]
  },
  {
   "cell_type": "code",
   "execution_count": 5,
   "metadata": {
    "collapsed": false
   },
   "outputs": [
    {
     "data": {
      "text/plain": [
       "{'a1': {'start'}, 'a2': {'start'}, 'o1': {'a1'}, 'o2': {'a2'}, 'start': set()}"
      ]
     },
     "execution_count": 5,
     "metadata": {},
     "output_type": "execute_result"
    }
   ],
   "source": [
    "# place o1 after a1\n",
    "net.add_connection('a1', 'o1')\n",
    "\n",
    "# place o2 after a2\n",
    "net.add_connection('a2', 'o2')\n",
    "\n",
    "net.net"
   ]
  },
  {
   "cell_type": "code",
   "execution_count": 6,
   "metadata": {
    "collapsed": false
   },
   "outputs": [
    {
     "data": {
      "text/plain": [
       "{'a4': set()}"
      ]
     },
     "execution_count": 6,
     "metadata": {},
     "output_type": "execute_result"
    },
    {
     "data": {
      "text/plain": [
       "{'a1': set(),\n",
       " 'a2': set(),\n",
       " 'a3': {'a1'},\n",
       " 'a4': set(),\n",
       " 'a5': {'a1'},\n",
       " 'o1': {'a1'},\n",
       " 'o2': {'a2'}}"
      ]
     },
     "execution_count": 6,
     "metadata": {},
     "output_type": "execute_result"
    }
   ],
   "source": [
    "# desired behavior: a3 and a5 eclipse a1. so you should only be able to\n",
    "# place them strictly after a1.\n",
    "\n",
    "# check which nodes we can place after o2\n",
    "net.enabled_nodes('o2', suppress_live=True)\n",
    "\n",
    "# notice that nodes after o1 contain a1 in their past.\n",
    "# therefore we can place the eclipsed a3 and a5 after o1.\n",
    "net.enabled_nodes('o1')"
   ]
  },
  {
   "cell_type": "markdown",
   "metadata": {},
   "source": [
    "Ability a1 **eclipses** ability a2 if a1 can defeat all of the obstacles a2 can defeat. If a1 eclipses a2, then we must ensure that the player aquires a2 first, otherwise a2 serves no purpose. In terms of the directed network, this means that a2 must be somewhere in the path between start and a1: these nodes are guaranteed to have been visited by the time the player gets to a1.\n",
    "\n",
    "The idea here is that you don't want the player to aquire invincibility before armor, for example."
   ]
  },
  {
   "cell_type": "markdown",
   "metadata": {},
   "source": [
    "## Visualize the network"
   ]
  },
  {
   "cell_type": "code",
   "execution_count": 7,
   "metadata": {
    "collapsed": false
   },
   "outputs": [
    {
     "data": {
      "image/png": "[encoded data removed]",
      "text/plain": [
       "<matplotlib.figure.Figure at 0x10e124c90>"
      ]
     },
     "metadata": {},
     "output_type": "display_data"
    }
   ],
   "source": [
    "g = net.nxgraph()\n",
    "nx.draw(g)\n",
    "plt.show()"
   ]
  },
  {
   "cell_type": "markdown",
   "metadata": {},
   "source": [
    "## Add an AND condition"
   ]
  },
  {
   "cell_type": "code",
   "execution_count": 8,
   "metadata": {
    "collapsed": false
   },
   "outputs": [
    {
     "data": {
      "text/plain": [
       "{'o3': {'a3'}}"
      ]
     },
     "execution_count": 8,
     "metadata": {},
     "output_type": "execute_result"
    },
    {
     "data": {
      "text/plain": [
       "{'o3': {'a3'}, 'o4': {'a4'}, 'o6': {('a3', 'a4')}}"
      ]
     },
     "execution_count": 8,
     "metadata": {},
     "output_type": "execute_result"
    },
    {
     "data": {
      "text/plain": [
       "{'o3': {'a3'}, 'o4': {'a4'}, 'o6': {('a3', 'a4')}}"
      ]
     },
     "execution_count": 8,
     "metadata": {},
     "output_type": "execute_result"
    }
   ],
   "source": [
    "# obstacle o6 requires both a3 and a4 to be defeated.\n",
    "net.add_obstacle('o6')\n",
    "net.defeats(('a3', 'a4'), 'o6')\n",
    "\n",
    "# the player unlocks a3.\n",
    "net.add_connection('o1', 'a3')\n",
    "\n",
    "# show the obstacles that we could add after a3.\n",
    "# it does not include o6 because we haven't unlocked a4 yet.\n",
    "net.enabled_nodes('a3', suppress_live=True)\n",
    "\n",
    "# the player unlocks a4 off the other branch of the graph.\n",
    "net.add_connection('o2', 'a4')\n",
    "\n",
    "# now that both a3 and a4 are unlocked, o6 is enabled\n",
    "net.enabled_nodes('a4', suppress_live=True)\n",
    "net.enabled_nodes('a3', suppress_live=True)\n",
    "\n",
    "# let's add o6 after a4.\n",
    "net.add_connection('a4', 'o6')"
   ]
  },
  {
   "cell_type": "code",
   "execution_count": 9,
   "metadata": {
    "collapsed": false
   },
   "outputs": [],
   "source": [
    "# for clarity, let's have o6 then unlock a new ability, a5\n",
    "net.add_connection('o6', 'a5')\n",
    "\n",
    "# let's also add an endpoint obstacle\n",
    "net.add_obstacle('end')\n",
    "net.defeats('a5', 'end')\n",
    "net.add_connection('a5', 'end')"
   ]
  },
  {
   "cell_type": "code",
   "execution_count": 10,
   "metadata": {
    "collapsed": false
   },
   "outputs": [
    {
     "data": {
      "image/png": "[encoded data removed]",
      "text/plain": [
       "<matplotlib.figure.Figure at 0x110c20cd0>"
      ]
     },
     "metadata": {},
     "output_type": "display_data"
    }
   ],
   "source": [
    "# redraw the graph to show the results\n",
    "g = net.nxgraph()\n",
    "nx.draw(g)\n",
    "plt.show()"
   ]
  },
  {
   "cell_type": "code",
   "execution_count": null,
   "metadata": {
    "collapsed": true
   },
   "outputs": [],
   "source": []
  }
 ],
 "metadata": {
  "anaconda-cloud": {},
  "kernelspec": {
   "display_name": "Python [default]",
   "language": "python",
   "name": "python2"
  },
  "language_info": {
   "codemirror_mode": {
    "name": "ipython",
    "version": 2
   },
   "file_extension": ".py",
   "mimetype": "text/x-python",
   "name": "python",
   "nbconvert_exporter": "python",
   "pygments_lexer": "ipython2",
   "version": "2.7.12"
  }
 },
 "nbformat": 4,
 "nbformat_minor": 1
}
