{
 "cells": [
  {
   "cell_type": "code",
   "execution_count": 41,
   "metadata": {
    "collapsed": true
   },
   "outputs": [],
   "source": [
    "from IPython.core.interactiveshell import InteractiveShell\n",
    "InteractiveShell.ast_node_interactivity = \"all\"\n",
    "import puzz"
   ]
  },
  {
   "cell_type": "code",
   "execution_count": 42,
   "metadata": {
    "collapsed": false
   },
   "outputs": [
    {
     "data": {
      "text/plain": [
       "{'a1': <puzz.Ability at 0x106831910>,\n",
       " 'a2': <puzz.Ability at 0x106831650>,\n",
       " 'a3': <puzz.Ability at 0x106831bd0>,\n",
       " 'a4': <puzz.Ability at 0x106831790>,\n",
       " 'o1': <puzz.Node at 0x106831510>,\n",
       " 'o2': <puzz.Node at 0x106864ad0>,\n",
       " 'o3': <puzz.Node at 0x106831cd0>,\n",
       " 'o4': <puzz.Node at 0x106831f90>,\n",
       " 'start': <puzz.Node at 0x106831e50>}"
      ]
     },
     "execution_count": 42,
     "metadata": {},
     "output_type": "execute_result"
    }
   ],
   "source": [
    "net = puzz.Network(['a1', 'a2'])\n",
    "net.add_obstacle('o1')\n",
    "net.add_obstacle('o2')\n",
    "net.add_obstacle('o3')\n",
    "net.add_obstacle('o4')\n",
    "net.add_ability('a3')\n",
    "net.add_ability('a4')\n",
    "net.nodes"
   ]
  },
  {
   "cell_type": "code",
   "execution_count": 43,
   "metadata": {
    "collapsed": false
   },
   "outputs": [],
   "source": [
    "net.defeats('a1', 'o1')\n",
    "net.defeats('a2', 'o2')\n",
    "net.defeats('a3', 'o3')\n",
    "net.defeats('a3', 'o1')\n",
    "net.defeats('a4', 'o4')"
   ]
  },
  {
   "cell_type": "code",
   "execution_count": 46,
   "metadata": {
    "collapsed": false
   },
   "outputs": [],
   "source": [
    "net.calc_ability_prereqs()"
   ]
  },
  {
   "cell_type": "code",
   "execution_count": 47,
   "metadata": {
    "collapsed": false
   },
   "outputs": [
    {
     "data": {
      "text/plain": [
       "{'a3', 'a4', 'o1', 'o3', 'o4'}"
      ]
     },
     "execution_count": 47,
     "metadata": {},
     "output_type": "execute_result"
    },
    {
     "data": {
      "text/plain": [
       "{'a4', 'o1', 'o3', 'o4'}"
      ]
     },
     "execution_count": 47,
     "metadata": {},
     "output_type": "execute_result"
    }
   ],
   "source": [
    "# desired behavior: a3 obsoletes a1. so you should only be able to\n",
    "# place it after a1, not a2\n",
    "net.enabled_nodes('a1')\n",
    "net.enabled_nodes('a2')"
   ]
  },
  {
   "cell_type": "code",
   "execution_count": null,
   "metadata": {
    "collapsed": true
   },
   "outputs": [],
   "source": []
  }
 ],
 "metadata": {
  "anaconda-cloud": {},
  "kernelspec": {
   "display_name": "Python [default]",
   "language": "python",
   "name": "python2"
  },
  "language_info": {
   "codemirror_mode": {
    "name": "ipython",
    "version": 2
   },
   "file_extension": ".py",
   "mimetype": "text/x-python",
   "name": "python",
   "nbconvert_exporter": "python",
   "pygments_lexer": "ipython2",
   "version": "2.7.12"
  }
 },
 "nbformat": 4,
 "nbformat_minor": 1
}
