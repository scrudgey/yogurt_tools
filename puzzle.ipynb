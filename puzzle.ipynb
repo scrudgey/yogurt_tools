{
 "cells": [
  {
   "cell_type": "code",
   "execution_count": 34,
   "metadata": {
    "collapsed": true
   },
   "outputs": [],
   "source": [
    "from IPython.core.interactiveshell import InteractiveShell\n",
    "InteractiveShell.ast_node_interactivity = \"all\"\n",
    "import puzz"
   ]
  },
  {
   "cell_type": "code",
   "execution_count": 35,
   "metadata": {
    "collapsed": false
   },
   "outputs": [
    {
     "name": "stdout",
     "output_type": "stream",
     "text": [
      "set(['start'])\n",
      "set(['start'])\n"
     ]
    },
    {
     "data": {
      "text/plain": [
       "{'a1': <puzz.Ability at 0x106864bd0>,\n",
       " 'a2': <puzz.Ability at 0x106864c10>,\n",
       " 'a3': <puzz.Ability at 0x106864cd0>,\n",
       " 'a4': <puzz.Ability at 0x106864d10>,\n",
       " 'o1': <puzz.Node at 0x106864b10>,\n",
       " 'o2': <puzz.Node at 0x1067f6150>,\n",
       " 'o3': <puzz.Node at 0x106864a90>,\n",
       " 'o4': <puzz.Node at 0x106864b90>,\n",
       " 'start': <puzz.Node at 0x106864b50>}"
      ]
     },
     "execution_count": 35,
     "metadata": {},
     "output_type": "execute_result"
    }
   ],
   "source": [
    "net = puzz.Network(['a1', 'a2'])\n",
    "net.add_obstacle('o1')\n",
    "net.add_obstacle('o2')\n",
    "net.add_obstacle('o3')\n",
    "net.add_obstacle('o4')\n",
    "net.add_ability('a3')\n",
    "net.add_ability('a4')\n",
    "net.nodes"
   ]
  },
  {
   "cell_type": "code",
   "execution_count": 36,
   "metadata": {
    "collapsed": false
   },
   "outputs": [],
   "source": [
    "net.defeats('a1', 'o1')\n",
    "net.defeats('a2', 'o2')\n",
    "net.defeats('a3', 'o3')\n",
    "net.defeats('a3', 'o1')\n",
    "net.defeats('a4', 'o4')"
   ]
  },
  {
   "cell_type": "code",
   "execution_count": 37,
   "metadata": {
    "collapsed": false
   },
   "outputs": [
    {
     "data": {
      "text/plain": [
       "set()"
      ]
     },
     "execution_count": 37,
     "metadata": {},
     "output_type": "execute_result"
    },
    {
     "data": {
      "text/plain": [
       "set()"
      ]
     },
     "execution_count": 37,
     "metadata": {},
     "output_type": "execute_result"
    },
    {
     "data": {
      "text/plain": [
       "{'a1'}"
      ]
     },
     "execution_count": 37,
     "metadata": {},
     "output_type": "execute_result"
    },
    {
     "data": {
      "text/plain": [
       "set()"
      ]
     },
     "execution_count": 37,
     "metadata": {},
     "output_type": "execute_result"
    }
   ],
   "source": [
    "net.calc_ability_prereqs()\n",
    "net.nodes['a1'].reqs\n",
    "net.nodes['a2'].reqs\n",
    "net.nodes['a3'].reqs\n",
    "net.nodes['a4'].reqs"
   ]
  },
  {
   "cell_type": "code",
   "execution_count": 38,
   "metadata": {
    "collapsed": false
   },
   "outputs": [
    {
     "name": "stdout",
     "output_type": "stream",
     "text": [
      "set(['a1', 'start'])\n",
      "a1\n",
      "set(['a1', 'start'])\n"
     ]
    },
    {
     "data": {
      "text/plain": [
       "{'a3', 'a4', 'o1', 'o3', 'o4'}"
      ]
     },
     "execution_count": 38,
     "metadata": {},
     "output_type": "execute_result"
    },
    {
     "name": "stdout",
     "output_type": "stream",
     "text": [
      "set(['start', 'a2'])\n",
      "a1\n",
      "a1 not in nodelist\n",
      "set(['start', 'a2'])\n"
     ]
    },
    {
     "data": {
      "text/plain": [
       "{'a4', 'o1', 'o3', 'o4'}"
      ]
     },
     "execution_count": 38,
     "metadata": {},
     "output_type": "execute_result"
    }
   ],
   "source": [
    "# desired behavior: a3 obsoletes a1. so you should only be able to\n",
    "# place it after a1, not a2\n",
    "net.enabled_nodes('a1')\n",
    "net.enabled_nodes('a2')"
   ]
  }
 ],
 "metadata": {
  "anaconda-cloud": {},
  "kernelspec": {
   "display_name": "Python [default]",
   "language": "python",
   "name": "python2"
  },
  "language_info": {
   "codemirror_mode": {
    "name": "ipython",
    "version": 2
   },
   "file_extension": ".py",
   "mimetype": "text/x-python",
   "name": "python",
   "nbconvert_exporter": "python",
   "pygments_lexer": "ipython2",
   "version": "2.7.12"
  }
 },
 "nbformat": 4,
 "nbformat_minor": 1
}
