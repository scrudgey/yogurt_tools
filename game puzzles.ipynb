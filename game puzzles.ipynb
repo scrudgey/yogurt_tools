{
 "cells": [
  {
   "cell_type": "markdown",
   "metadata": {},
   "source": [
    "# Mapping out the present state of the game"
   ]
  },
  {
   "cell_type": "code",
   "execution_count": 171,
   "metadata": {
    "collapsed": true
   },
   "outputs": [],
   "source": [
    "from IPython.core.interactiveshell import InteractiveShell\n",
    "InteractiveShell.ast_node_interactivity = \"all\"\n",
    "import puzz"
   ]
  },
  {
   "cell_type": "code",
   "execution_count": 172,
   "metadata": {
    "collapsed": true
   },
   "outputs": [],
   "source": [
    "net = puzz.Network(['base', 'death exploit'])"
   ]
  },
  {
   "cell_type": "markdown",
   "metadata": {},
   "source": [
    "### the currently existing nodes"
   ]
  },
  {
   "cell_type": "code",
   "execution_count": 173,
   "metadata": {
    "collapsed": true
   },
   "outputs": [],
   "source": [
    "net.add_obstacle('cave1')\n",
    "net.add_obstacle('arrow trap')\n",
    "net.add_obstacle('knight')\n",
    "net.add_obstacle('volcano')\n",
    "net.add_obstacle('fireman')\n",
    "\n",
    "net.add_ability('strength')\n",
    "net.add_ability('fireproof')\n",
    "net.add_ability('armor')"
   ]
  },
  {
   "cell_type": "markdown",
   "metadata": {},
   "source": [
    "### planned nodes"
   ]
  },
  {
   "cell_type": "markdown",
   "metadata": {},
   "source": [
    "separate invulnerable and \"no physical damage\"\n",
    "asphyxiation vs. not\n",
    "\n",
    "how do you defeat a vampire?\n",
    "\n",
    "\"sneak past vampire\" and \"kill vampire\" separate?\n",
    "right now assumed \"kill vampire\" and \"kill ethereal\"\n",
    "\n",
    "money -> farmer store -> eggplant -> commercial -> duplicator -> infinite money"
   ]
  },
  {
   "cell_type": "code",
   "execution_count": 174,
   "metadata": {
    "collapsed": true
   },
   "outputs": [],
   "source": [
    "\n",
    "net.add_obstacle('locked door')\n",
    "net.add_obstacle('fast-moving target')\n",
    "net.add_obstacle('ethereal damage')\n",
    "net.add_obstacle('asphyxiation maze')\n",
    "net.add_obstacle('pit')\n",
    "net.add_obstacle('cliff')\n",
    "net.add_obstacle('small monsters')\n",
    "net.add_obstacle('binary tree of death')\n",
    "net.add_obstacle('large magnet')\n",
    "net.add_obstacle('fixed obstacle')\n",
    "net.add_obstacle('heavy obstacle')\n",
    "net.add_obstacle('large damage')\n",
    "net.add_obstacle('moon')\n",
    "net.add_obstacle('kill ethereal monster')\n",
    "net.add_obstacle('kill vampire')\n",
    "\n",
    "net.add_ability('hypnosis')\n",
    "net.add_ability('ethereal')\n",
    "net.add_ability('damage etheral')\n",
    "net.add_ability('invulnerable')\n",
    "net.add_ability('fireproof')\n",
    "net.add_ability('invisible')\n",
    "net.add_ability('telepathy')\n",
    "net.add_ability('nullify')\n",
    "net.add_ability('elective vomit')\n",
    "net.add_ability('eat all')\n",
    "net.add_ability('spaceflight')\n",
    "net.add_ability('reanimate dead')\n",
    "net.add_ability('vampirism')\n",
    "net.add_ability('teleporter')"
   ]
  },
  {
   "cell_type": "code",
   "execution_count": 175,
   "metadata": {
    "collapsed": false
   },
   "outputs": [],
   "source": [
    "net.defeats('normal', 'fireman')\n",
    "\n",
    "net.defeats('death exploit', 'cave1')\n",
    "\n",
    "net.defeats('armor', 'arrow trap')\n",
    "\n",
    "net.defeats('fireproof', 'volcano')\n",
    "\n",
    "net.defeats('strength', 'knight')\n",
    "net.defeats('strength', 'heavy obstacle')\n",
    "\n",
    "net.defeats(('teleporter', 'death exploit'), 'asphyxiation maze')\n",
    "\n",
    "net.defeats('vampirism', 'asphyxiation maze')\n",
    "\n",
    "net.defeats('spaceflight', 'moon')\n",
    "\n",
    "net.defeats('nullify', 'locked door')\n",
    "net.defeats('nullify', 'fast-moving target')\n",
    "net.defeats('nullify', 'knight')\n",
    "net.defeats('nullify', 'heavy obstacle')\n",
    "net.defeats('nullify', 'fixed obstacle')\n",
    "net.defeats('nullify', 'large magnet')\n",
    "\n",
    "net.defeats('telepathy', 'binary tree of death')\n",
    "\n",
    "net.defeats('invisible', 'knight')\n",
    "net.defeats('invisible', 'small monsters')\n",
    "\n",
    "net.defeats('damage etheral', 'fireman')\n",
    "net.defeats('damage etheral', 'knight')\n",
    "net.defeats('damage etheral', 'small monsters')\n",
    "net.defeats('damage etheral', 'kill ethereal monster')\n",
    "\n",
    "net.defeats('ethereal', 'locked door')\n",
    "net.defeats('ethereal', 'large damage')\n",
    "net.defeats('ethereal', 'knight')\n",
    "net.defeats('ethereal', 'fixed obstacle')\n",
    "net.defeats('ethereal', 'small monsters')\n",
    "net.defeats('ethereal', 'volcano')\n",
    "net.defeats('ethereal', 'arrow trap')\n",
    "\n",
    "net.defeats('hypnosis', 'knight')\n",
    "net.defeats('hypnosis', 'fireman')\n",
    "net.defeats('hypnosis', 'knight')\n",
    "\n",
    "net.defeats('invulnerable', 'knight')\n",
    "net.defeats('invulnerable', 'small monsters')\n",
    "net.defeats('invulnerable', 'ethereal damage')\n",
    "net.defeats('invulnerable', 'volcano')\n",
    "net.defeats('invulnerable', 'arrow trap')"
   ]
  },
  {
   "cell_type": "markdown",
   "metadata": {},
   "source": [
    "### the current layout of the game"
   ]
  },
  {
   "cell_type": "code",
   "execution_count": 176,
   "metadata": {
    "collapsed": false
   },
   "outputs": [],
   "source": [
    "net.add_connection('start', 'fireman')\n",
    "net.add_connection('fireman', 'fireproof')\n",
    "\n",
    "net.add_connection('start', 'volcano')\n",
    "net.add_connection('start', 'cave1')\n",
    "\n",
    "net.add_connection('death exploit', 'cave1')\n",
    "net.add_connection('cave1', 'strength')\n",
    "net.add_connection('strength', 'knight')\n",
    "net.add_connection('knight', 'armor')\n",
    "net.add_connection('armor', 'arrow trap')\n",
    "\n",
    "net.add_connection('normal', 'fireman')\n",
    "net.add_connection('fireproof', 'volcano')"
   ]
  },
  {
   "cell_type": "code",
   "execution_count": 177,
   "metadata": {
    "collapsed": false
   },
   "outputs": [
    {
     "data": {
      "text/plain": [
       "{'eat all': set(),\n",
       " 'elective vomit': set(),\n",
       " 'heavy obstacle': {'strength'},\n",
       " 'hypnosis': {'normal'},\n",
       " 'invisible': set(),\n",
       " 'reanimate dead': set(),\n",
       " 'spaceflight': set(),\n",
       " 'telepathy': set(),\n",
       " 'teleporter': set(),\n",
       " 'vampirism': set()}"
      ]
     },
     "execution_count": 177,
     "metadata": {},
     "output_type": "execute_result"
    }
   ],
   "source": [
    "net.enabled_nodes('volcano', suppress_live=True)"
   ]
  },
  {
   "cell_type": "code",
   "execution_count": 178,
   "metadata": {
    "collapsed": false
   },
   "outputs": [
    {
     "data": {
      "image/png": "[encoded data removed]",
      "text/plain": [
       "<matplotlib.figure.Figure at 0x1118c3210>"
      ]
     },
     "metadata": {},
     "output_type": "display_data"
    }
   ],
   "source": [
    "net.plot(spring=True)"
   ]
  },
  {
   "cell_type": "code",
   "execution_count": null,
   "metadata": {
    "collapsed": true
   },
   "outputs": [],
   "source": []
  }
 ],
 "metadata": {
  "celltoolbar": "Raw Cell Format",
  "kernelspec": {
   "display_name": "Python [default]",
   "language": "python",
   "name": "python2"
  },
  "language_info": {
   "codemirror_mode": {
    "name": "ipython",
    "version": 2
   },
   "file_extension": ".py",
   "mimetype": "text/x-python",
   "name": "python",
   "nbconvert_exporter": "python",
   "pygments_lexer": "ipython2",
   "version": "2.7.12"
  }
 },
 "nbformat": 4,
 "nbformat_minor": 1
}
