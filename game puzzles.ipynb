{
 "cells": [
  {
   "cell_type": "markdown",
   "metadata": {},
   "source": [
    "# Mapping out the present state of the game"
   ]
  },
  {
   "cell_type": "code",
   "execution_count": 825,
   "metadata": {
    "collapsed": false
   },
   "outputs": [],
   "source": [
    "from IPython.core.interactiveshell import InteractiveShell\n",
    "InteractiveShell.ast_node_interactivity = \"all\"\n",
    "import puzz\n",
    "import copy"
   ]
  },
  {
   "cell_type": "code",
   "execution_count": 826,
   "metadata": {
    "collapsed": true
   },
   "outputs": [],
   "source": [
    "net = puzz.Network(['normal', 'death exploit'])"
   ]
  },
  {
   "cell_type": "code",
   "execution_count": 827,
   "metadata": {
    "collapsed": false
   },
   "outputs": [],
   "source": [
    "# TODO\n",
    "\n",
    "# some way to specify that obstacle o2 comes after o1? (moon comes after asphyxiation maze?)\n",
    "# this is room-like behavior for nodes.\n",
    "\n",
    "# identify which abilities should be placed next based on what is required?\n",
    "# is there a sense of 'minimum required'? like, i know i could place ultimate deathtrap if only\n",
    "# invulnerability was in the game, but i'm not ready to put invulnerability yet\n",
    "\n",
    "# the requirements of the thing is everything it requires and all the things those things require\n",
    "# n/100 requirements met by existing network calculation?\n",
    "\n",
    "# allow a way to \"force\" place node and then store info on how the current net is invalid\n",
    "# and what needs to be placed in order to make network valid\n",
    "\n",
    "# allow a way for obstacles to \"block\" abilities at all points after them? must be "
   ]
  },
  {
   "cell_type": "markdown",
   "metadata": {},
   "source": [
    "### planned nodes"
   ]
  },
  {
   "cell_type": "markdown",
   "metadata": {},
   "source": [
    "separate invulnerable and \"no physical damage\"\n",
    "asphyxiation vs. not\n",
    "\n",
    "how do you defeat a vampire?\n",
    "\n",
    "\"sneak past vampire\" and \"kill vampire\" separate?\n",
    "\n",
    "some powerful abilities still show up as possible and i suspect it's because i need to describe more possibilities. i need to come up with more obstacles for:\n",
    "\n",
    "invisibility\n",
    "nullification\n",
    "hypnosis\n",
    "\n",
    "\n",
    "more combined abilities\n",
    "\n",
    "\n",
    "\n",
    "can i incorporate rooms?"
   ]
  },
  {
   "cell_type": "code",
   "execution_count": 828,
   "metadata": {
    "collapsed": true
   },
   "outputs": [],
   "source": [
    "# current obstacles\n",
    "net.add_obstacle('cave1')\n",
    "net.add_obstacle('arrow trap')\n",
    "net.add_obstacle('knight')\n",
    "net.add_obstacle('volcano')\n",
    "net.add_obstacle('fireman')\n",
    "net.add_obstacle('farmer store')\n",
    "net.add_obstacle('eggplant commercial')\n",
    "net.add_obstacle('first commercial')\n",
    "\n",
    "# planned obstacles\n",
    "net.add_obstacle('locked door')\n",
    "net.add_obstacle('fast-moving target')\n",
    "net.add_obstacle('ethereal damage')\n",
    "net.add_obstacle('asphyxiation maze')\n",
    "net.add_obstacle('pit')\n",
    "net.add_obstacle('cliff')\n",
    "net.add_obstacle('small monsters')\n",
    "net.add_obstacle('binary tree of death')\n",
    "net.add_obstacle('large magnet')\n",
    "net.add_obstacle('fixed obstacle')\n",
    "net.add_obstacle('fixed non-destructible obstacle')\n",
    "net.add_obstacle('heavy obstacle')\n",
    "net.add_obstacle('large damage')\n",
    "net.add_obstacle('moon')\n",
    "net.add_obstacle('kill ethereal monster')\n",
    "net.add_obstacle('kill vampire')\n",
    "net.add_obstacle('dungeon')\n",
    "net.add_obstacle('hell')\n",
    "\n",
    "# current abilities\n",
    "net.add_ability('strength')\n",
    "net.add_ability('fireproof')\n",
    "net.add_ability('armor')\n",
    "net.add_ability('money')\n",
    "net.add_ability('eggplant')\n",
    "net.add_ability('duplicator')\n",
    "net.add_ability('hypnosis')\n",
    "net.add_ability('fireproof')\n",
    "\n",
    "# planned abilities\n",
    "net.add_ability('ethereal')\n",
    "net.add_ability('damage ethereal')\n",
    "net.add_ability('invulnerable')\n",
    "# net.add_ability('invisible')\n",
    "net.add_ability('telepathy')\n",
    "net.add_ability('nullify')\n",
    "net.add_ability('elective vomit')\n",
    "net.add_ability('eat all')\n",
    "net.add_ability('spaceflight')\n",
    "net.add_ability('reanimate dead')\n",
    "net.add_ability('vampirism')\n",
    "net.add_ability('teleporter')\n",
    "# net.add_ability('kick')"
   ]
  },
  {
   "cell_type": "code",
   "execution_count": 829,
   "metadata": {
    "collapsed": false
   },
   "outputs": [],
   "source": [
    "net.defeats(('invulnerable', 'damage ethereal'), 'hell')\n",
    "\n",
    "net.defeats(('invulnerable', 'damage ethereal'), 'kill vampire')\n",
    "\n",
    "net.defeats('telepathy', 'binary tree of death')\n",
    "\n",
    "net.defeats(('elective vomit', 'eat all'), 'dungeon')\n",
    "\n",
    "net.defeats('normal', 'fireman')\n",
    "\n",
    "net.defeats('death exploit', 'cave1')\n",
    "\n",
    "net.defeats('armor', 'arrow trap')\n",
    "\n",
    "net.defeats('fireproof', 'volcano')\n",
    "\n",
    "net.defeats('strength', 'knight')\n",
    "net.defeats('strength', 'heavy obstacle')\n",
    "\n",
    "net.defeats('normal', 'first commercial')\n",
    "net.defeats('money', 'farmer store')\n",
    "net.defeats('eggplant', 'eggplant commercial')\n",
    "\n",
    "net.defeats(('teleporter', 'death exploit'), 'asphyxiation maze')\n",
    "net.defeats('teleporter', 'asphyxiation maze')\n",
    "net.defeats('teleporter', 'dungeon')\n",
    "\n",
    "net.defeats('vampirism', 'asphyxiation maze')\n",
    "net.defeats('vampirism', 'cliff')\n",
    "\n",
    "net.defeats('spaceflight', 'moon')\n",
    "\n",
    "net.defeats('nullify', 'locked door')\n",
    "net.defeats('nullify', 'fast-moving target')\n",
    "net.defeats('nullify', 'knight')\n",
    "net.defeats('nullify', 'heavy obstacle')\n",
    "net.defeats('nullify', 'fixed obstacle')\n",
    "net.defeats('nullify', 'large magnet')\n",
    "\n",
    "net.defeats('telepathy', 'binary tree of death')\n",
    "\n",
    "# net.defeats('invisible', 'knight')\n",
    "# net.defeats('invisible', 'small monsters')\n",
    "\n",
    "net.defeats('damage ethereal', 'fireman')\n",
    "net.defeats('damage ethereal', 'knight')\n",
    "net.defeats('damage ethereal', 'small monsters')\n",
    "net.defeats('damage ethereal', 'kill ethereal monster')\n",
    "\n",
    "net.defeats('ethereal', 'locked door')\n",
    "net.defeats('ethereal', 'large damage')\n",
    "net.defeats('ethereal', 'heavy obstacle')\n",
    "net.defeats('ethereal', 'knight')\n",
    "net.defeats('ethereal', 'fixed obstacle')\n",
    "net.defeats('ethereal', 'fixed non-destructible obstacle')\n",
    "net.defeats('ethereal', 'small monsters')\n",
    "net.defeats('ethereal', 'volcano')\n",
    "net.defeats('ethereal', 'arrow trap')\n",
    "\n",
    "net.defeats('hypnosis', 'knight')\n",
    "net.defeats('hypnosis', 'fireman')\n",
    "net.defeats('hypnosis', 'knight')\n",
    "\n",
    "net.defeats('invulnerable', 'knight')\n",
    "net.defeats('invulnerable', 'large damage')\n",
    "net.defeats('invulnerable', 'small monsters')\n",
    "net.defeats('invulnerable', 'ethereal damage')\n",
    "net.defeats('invulnerable', 'volcano')\n",
    "net.defeats('invulnerable', 'arrow trap')"
   ]
  },
  {
   "cell_type": "markdown",
   "metadata": {},
   "source": [
    "### the current layout of the game"
   ]
  },
  {
   "cell_type": "code",
   "execution_count": null,
   "metadata": {
    "collapsed": true
   },
   "outputs": [],
   "source": []
  },
  {
   "cell_type": "code",
   "execution_count": 830,
   "metadata": {
    "collapsed": false
   },
   "outputs": [],
   "source": [
    "net.add_connection('start', 'fireman')\n",
    "net.add_connection('fireman', 'fireproof')\n",
    "\n",
    "net.add_connection('start', 'volcano')\n",
    "net.add_connection('start', 'cave1')\n",
    "net.add_connection('start', 'first commercial')\n",
    "net.add_connection('first commercial', 'money')\n",
    "net.add_connection('start', 'farmer store')\n",
    "\n",
    "net.add_connection('farmer store', 'eggplant')\n",
    "net.add_connection('first commercial', 'eggplant commercial')\n",
    "net.add_connection('eggplant commercial', 'duplicator')\n",
    "\n",
    "net.add_connection('death exploit', 'cave1')\n",
    "net.add_connection('cave1', 'strength')\n",
    "net.add_connection('strength', 'knight')\n",
    "net.add_connection('knight', 'armor')\n",
    "net.add_connection('armor', 'arrow trap')\n",
    "\n",
    "net.add_connection('normal', 'fireman')\n",
    "net.add_connection('fireproof', 'volcano')"
   ]
  },
  {
   "cell_type": "code",
   "execution_count": 831,
   "metadata": {
    "collapsed": false
   },
   "outputs": [
    {
     "data": {
      "image/png": "[encoded data removed]",
      "text/plain": [
       "<matplotlib.figure.Figure at 0x111fceb10>"
      ]
     },
     "metadata": {},
     "output_type": "display_data"
    }
   ],
   "source": [
    "net.plot(spring=True)"
   ]
  },
  {
   "cell_type": "code",
   "execution_count": 832,
   "metadata": {
    "collapsed": false
   },
   "outputs": [
    {
     "data": {
      "text/plain": [
       "{'eat all': set(),\n",
       " 'elective vomit': set(),\n",
       " 'heavy obstacle': {'strength'},\n",
       " 'hypnosis': set(),\n",
       " 'nullify': {'strength'},\n",
       " 'reanimate dead': set(),\n",
       " 'spaceflight': set(),\n",
       " 'telepathy': set(),\n",
       " 'teleporter': set(),\n",
       " 'vampirism': set()}"
      ]
     },
     "execution_count": 832,
     "metadata": {},
     "output_type": "execute_result"
    }
   ],
   "source": [
    "net.enabled_nodes('knight', suppress_live=True)"
   ]
  },
  {
   "cell_type": "code",
   "execution_count": 833,
   "metadata": {
    "collapsed": false
   },
   "outputs": [
    {
     "name": "stdout",
     "output_type": "stream",
     "text": [
      "locked abilities:\n"
     ]
    },
    {
     "data": {
      "text/plain": [
       "{'damage ethereal': {'hypnosis'},\n",
       " 'ethereal': {'armor', 'fireproof', 'strength'},\n",
       " 'invulnerable': {'armor', 'fireproof'}}"
      ]
     },
     "execution_count": 833,
     "metadata": {},
     "output_type": "execute_result"
    },
    {
     "name": "stdout",
     "output_type": "stream",
     "text": [
      "unlocked abilities:\n"
     ]
    },
    {
     "data": {
      "text/plain": [
       "{'eat all',\n",
       " 'elective vomit',\n",
       " 'hypnosis',\n",
       " 'nullify',\n",
       " 'reanimate dead',\n",
       " 'spaceflight',\n",
       " 'telepathy',\n",
       " 'teleporter',\n",
       " 'vampirism'}"
      ]
     },
     "execution_count": 833,
     "metadata": {},
     "output_type": "execute_result"
    },
    {
     "name": "stdout",
     "output_type": "stream",
     "text": [
      "\n",
      "locked obstacles that dont require locked abilities:\n"
     ]
    },
    {
     "data": {
      "text/plain": [
       "{'asphyxiation maze': {'teleporter',\n",
       "  'vampirism',\n",
       "  ('teleporter', 'death exploit')},\n",
       " 'binary tree of death': {'telepathy'},\n",
       " 'cliff': {'vampirism'},\n",
       " 'dungeon': {'teleporter', ('elective vomit', 'eat all')},\n",
       " 'fast-moving target': {'nullify'},\n",
       " 'fixed obstacle': {'ethereal', 'nullify'},\n",
       " 'hell': {('invulnerable', 'damage ethereal')},\n",
       " 'kill vampire': {('invulnerable', 'damage ethereal')},\n",
       " 'large magnet': {'nullify'},\n",
       " 'locked door': {'ethereal', 'nullify'},\n",
       " 'moon': {'spaceflight'},\n",
       " 'pit': set(),\n",
       " 'start': set()}"
      ]
     },
     "execution_count": 833,
     "metadata": {},
     "output_type": "execute_result"
    },
    {
     "name": "stdout",
     "output_type": "stream",
     "text": [
      "unlocked obstacles:\n"
     ]
    },
    {
     "data": {
      "text/plain": [
       "{'heavy obstacle'}"
      ]
     },
     "execution_count": 833,
     "metadata": {},
     "output_type": "execute_result"
    },
    {
     "name": "stdout",
     "output_type": "stream",
     "text": [
      "\n"
     ]
    }
   ],
   "source": [
    "print 'locked abilities:'\n",
    "net.locked_abilities()\n",
    "print 'unlocked abilities:'\n",
    "net.unlocked_abilities()\n",
    "print ''\n",
    "print 'locked obstacles that dont require locked abilities:'\n",
    "net.locked_obstacles()\n",
    "print 'unlocked obstacles:'\n",
    "net.unlocked_obstacles()\n",
    "print ''"
   ]
  },
  {
   "cell_type": "code",
   "execution_count": 834,
   "metadata": {
    "collapsed": false
   },
   "outputs": [
    {
     "name": "stdout",
     "output_type": "stream",
     "text": [
      "requirements for nullify are satisfied already.\n",
      "overlap:\n",
      "set(['locked door', 'heavy obstacle', 'fixed obstacle', 'knight'])\n",
      "non overlap:\n",
      "set(['large magnet', 'fixed non-destructible obstacle', 'large damage', 'fast-moving target', 'small monsters', 'volcano', 'arrow trap'])\n"
     ]
    }
   ],
   "source": [
    "# what do I need to place before I can place nullify?\n",
    "net.required('nullify')\n",
    "\n",
    "# how do the requirements for these nodes compare?\n",
    "net.compare('ethereal', 'nullify')"
   ]
  },
  {
   "cell_type": "code",
   "execution_count": 835,
   "metadata": {
    "collapsed": false
   },
   "outputs": [
    {
     "data": {
      "text/plain": [
       "{'fast-moving target', 'fixed obstacle', 'large magnet', 'locked door'}"
      ]
     },
     "execution_count": 835,
     "metadata": {},
     "output_type": "execute_result"
    }
   ],
   "source": [
    "# what new nodes would be unlocked if I place this ability in the network?\n",
    "net.speculate('nullify', after='knight')"
   ]
  },
  {
   "cell_type": "markdown",
   "metadata": {},
   "source": [
    "# Let's try building up a new network "
   ]
  },
  {
   "cell_type": "code",
   "execution_count": 836,
   "metadata": {
    "collapsed": false,
    "scrolled": true
   },
   "outputs": [],
   "source": [
    "net2 = copy.deepcopy(net)\n",
    "net2.add_connection('knight', 'heavy obstacle')\n",
    "net2.add_connection('volcano', 'spaceflight')\n",
    "net2.add_connection('volcano', 'moon')\n",
    "net2.add_connection('start', 'elective vomit')"
   ]
  },
  {
   "cell_type": "code",
   "execution_count": 837,
   "metadata": {
    "collapsed": false,
    "scrolled": true
   },
   "outputs": [
    {
     "name": "stdout",
     "output_type": "stream",
     "text": [
      "LOCKED ABILITIES:\n",
      "\n",
      "invulnerable: set(['armor', 'fireproof'])\n",
      "damage ethereal: set(['hypnosis'])\n",
      "ethereal: set(['armor', 'strength', 'fireproof'])\n",
      "\n",
      "\n",
      "LOCKED OBSTACLES:\n",
      "\n",
      "fixed obstacle: set(['nullify', 'ethereal'])\n",
      "hell: set([('invulnerable', 'damage ethereal')])\n",
      "pit: set([])\n",
      "dungeon: set(['teleporter', ('elective vomit', 'eat all')])\n",
      "asphyxiation maze: set(['teleporter', 'vampirism', ('teleporter', 'death exploit')])\n",
      "start: set([])\n",
      "kill vampire: set([('invulnerable', 'damage ethereal')])\n",
      "large magnet: set(['nullify'])\n",
      "fast-moving target: set(['nullify'])\n",
      "cliff: set(['vampirism'])\n",
      "locked door: set(['nullify', 'ethereal'])\n",
      "binary tree of death: set(['telepathy'])\n",
      "\n",
      "\n",
      "PLACE NEXT:\n",
      "\n",
      "ability reanimate dead can be placed \n",
      "anywhere\n",
      "\n",
      "\n",
      "ability teleporter can be placed \n",
      "anywhere\n",
      " and would unlock set(['dungeon', 'asphyxiation maze'])\n",
      "\n",
      "\n",
      "ability vampirism can be placed \n",
      "anywhere\n",
      " and would unlock set(['asphyxiation maze', 'cliff'])\n",
      "\n",
      "\n",
      "ability eat all can be placed \n",
      "anywhere\n",
      " and would unlock set(['dungeon'])\n",
      "\n",
      "\n",
      "ability nullify can be placed \n",
      "after ['strength', 'armor', 'knight', 'heavy obstacle', 'arrow trap']\n",
      " and would unlock set(['large magnet', 'fixed obstacle', 'fast-moving target', 'locked door'])\n",
      "\n",
      "\n",
      "ability hypnosis can be placed \n",
      "anywhere\n",
      " and would unlock set(['damage ethereal'])\n",
      "\n",
      "\n",
      "ability telepathy can be placed \n",
      "anywhere\n",
      " and would unlock set(['binary tree of death'])\n",
      "\n",
      "\n",
      "JOINT OBSTACLE ANALYSIS:\n",
      "\n",
      "ethereal requires a joint obstacle, possibly with the following requirements:\n",
      "('armor', 'armor', 'volcano')\n",
      "('armor', 'armor', 'spaceflight')\n",
      "('armor', 'armor', 'moon')\n",
      "('armor', 'armor', 'fireproof')\n",
      "('armor', 'knight', 'volcano')\n",
      "('armor', 'knight', 'spaceflight')\n",
      "('armor', 'knight', 'moon')\n",
      "('armor', 'knight', 'fireproof')\n",
      "('armor', 'heavy obstacle', 'volcano')\n",
      "('armor', 'heavy obstacle', 'spaceflight')\n",
      "('armor', 'heavy obstacle', 'moon')\n",
      "('armor', 'heavy obstacle', 'fireproof')\n",
      "('armor', 'strength', 'volcano')\n",
      "('armor', 'strength', 'spaceflight')\n",
      "('armor', 'strength', 'moon')\n",
      "('armor', 'strength', 'fireproof')\n",
      "('armor', 'arrow trap', 'volcano')\n",
      "('armor', 'arrow trap', 'spaceflight')\n",
      "('armor', 'arrow trap', 'moon')\n",
      "('armor', 'arrow trap', 'fireproof')\n",
      "('arrow trap', 'armor', 'volcano')\n",
      "('arrow trap', 'armor', 'spaceflight')\n",
      "('arrow trap', 'armor', 'moon')\n",
      "('arrow trap', 'armor', 'fireproof')\n",
      "('arrow trap', 'knight', 'volcano')\n",
      "('arrow trap', 'knight', 'spaceflight')\n",
      "('arrow trap', 'knight', 'moon')\n",
      "('arrow trap', 'knight', 'fireproof')\n",
      "('arrow trap', 'heavy obstacle', 'volcano')\n",
      "('arrow trap', 'heavy obstacle', 'spaceflight')\n",
      "('arrow trap', 'heavy obstacle', 'moon')\n",
      "('arrow trap', 'heavy obstacle', 'fireproof')\n",
      "('arrow trap', 'strength', 'volcano')\n",
      "('arrow trap', 'strength', 'spaceflight')\n",
      "('arrow trap', 'strength', 'moon')\n",
      "('arrow trap', 'strength', 'fireproof')\n",
      "('arrow trap', 'arrow trap', 'volcano')\n",
      "('arrow trap', 'arrow trap', 'spaceflight')\n",
      "('arrow trap', 'arrow trap', 'moon')\n",
      "('arrow trap', 'arrow trap', 'fireproof')\n",
      "\n",
      "\n",
      "invulnerable requires a joint obstacle, possibly with the following requirements:\n",
      "('armor', 'volcano')\n",
      "('armor', 'spaceflight')\n",
      "('armor', 'moon')\n",
      "('armor', 'fireproof')\n",
      "('arrow trap', 'volcano')\n",
      "('arrow trap', 'spaceflight')\n",
      "('arrow trap', 'moon')\n",
      "('arrow trap', 'fireproof')\n",
      "\n",
      "\n",
      "or consider using hell: ('invulnerable', 'damage ethereal')\n",
      "or consider using dungeon: ('elective vomit', 'eat all')\n",
      "or consider using asphyxiation maze: ('teleporter', 'death exploit')\n",
      "or consider using kill vampire: ('invulnerable', 'damage ethereal')\n"
     ]
    }
   ],
   "source": [
    "net2.analyze()"
   ]
  },
  {
   "cell_type": "markdown",
   "metadata": {},
   "source": [
    "1. locked(?) obstacles with a joint requirement that is met by signature set\n",
    "2. unplaced obstacles with joint requirements that can be divided up between the \n",
    "    len(obstacle req) ≥ (ability req)\n",
    "    obstacle reqs not yet placed\n",
    "    each ability req can have at least one obstacle req in its future\n",
    "    (this logic is a little prickly so maybe i'll only implement it if i find it necessary later)"
   ]
  },
  {
   "cell_type": "code",
   "execution_count": 838,
   "metadata": {
    "collapsed": false
   },
   "outputs": [
    {
     "name": "stdout",
     "output_type": "stream",
     "text": [
      "overlap:\n",
      "set(['locked door', 'heavy obstacle', 'fixed obstacle', 'knight'])\n",
      "non overlap:\n",
      "set(['large magnet', 'fixed non-destructible obstacle', 'large damage', 'fast-moving target', 'small monsters', 'volcano', 'arrow trap'])\n",
      "\n",
      "overlap:\n",
      "set(['small monsters', 'knight', 'large damage', 'arrow trap', 'volcano'])\n",
      "non overlap:\n",
      "set(['locked door', 'fixed non-destructible obstacle', 'fixed obstacle', 'heavy obstacle', 'ethereal damage'])\n",
      "\n",
      "overlap:\n",
      "set(['asphyxiation maze'])\n",
      "non overlap:\n",
      "set(['dungeon', 'cliff'])\n"
     ]
    }
   ],
   "source": [
    "net2.compare('nullify', 'ethereal')\n",
    "print ''\n",
    "net2.compare('invulnerable', 'ethereal')\n",
    "print ''\n",
    "net2.compare('teleporter', 'vampirism')"
   ]
  },
  {
   "cell_type": "code",
   "execution_count": 839,
   "metadata": {
    "collapsed": false,
    "scrolled": true
   },
   "outputs": [
    {
     "data": {
      "text/plain": [
       "{'teleporter', 'vampirism', ('teleporter', 'death exploit')}"
      ]
     },
     "execution_count": 839,
     "metadata": {},
     "output_type": "execute_result"
    }
   ],
   "source": [
    "net2.obstacles['asphyxiation maze'].reqs"
   ]
  },
  {
   "cell_type": "code",
   "execution_count": 840,
   "metadata": {
    "collapsed": false
   },
   "outputs": [
    {
     "data": {
      "text/plain": [
       "{'arrow trap',\n",
       " 'ethereal damage',\n",
       " 'knight',\n",
       " 'large damage',\n",
       " 'small monsters',\n",
       " 'volcano'}"
      ]
     },
     "execution_count": 840,
     "metadata": {},
     "output_type": "execute_result"
    }
   ],
   "source": [
    "net2.abilities['invulnerable'].defeats"
   ]
  },
  {
   "cell_type": "code",
   "execution_count": 841,
   "metadata": {
    "collapsed": false
   },
   "outputs": [
    {
     "data": {
      "text/plain": [
       "{'asphyxiation maze', 'dungeon'}"
      ]
     },
     "execution_count": 841,
     "metadata": {},
     "output_type": "execute_result"
    },
    {
     "data": {
      "text/plain": [
       "{'asphyxiation maze', 'cliff'}"
      ]
     },
     "execution_count": 841,
     "metadata": {},
     "output_type": "execute_result"
    },
    {
     "data": {
      "text/plain": [
       "{'teleporter', ('elective vomit', 'eat all')}"
      ]
     },
     "execution_count": 841,
     "metadata": {},
     "output_type": "execute_result"
    }
   ],
   "source": [
    "net2.nodes['teleporter'].defeats\n",
    "net2.nodes['vampirism'].defeats\n",
    "net.nodes['dungeon'].reqs"
   ]
  },
  {
   "cell_type": "markdown",
   "metadata": {},
   "source": [
    "PLAN\n",
    "\n",
    "armor -> cannon behind volcano, cannon -> spaceflight\n",
    "    just a little exercise of armor and carrying outfit\n",
    "    to survive the cannon blast to the face ?\n",
    "\n",
    "dungeon is in mansion\n",
    "\n",
    "dracula throws you in the dungeon or else you try to\n",
    "    fight him to death\n",
    "invulnerable is conferred by dungeon\n",
    "\n",
    "elective vomit behind the knight\n",
    "    under heavy gravestone\n",
    "eat everything behind volcano.\n",
    "    or let player choose: a perk\n",
    "\n",
    "nullifier is behind cave2\n",
    "\n",
    "invuln + damage ethereal : kill dracula : asphyxiation maze on moon as a vampire\n",
    "\n",
    "OTHER THREADS\n",
    "\n",
    "fixed non-destructible obstacle\n",
    "    (third deathtrap?)\n",
    "\n",
    "teleporter : but not before invulnerability\n",
    "    because teleporter would allow you to defeat dungeon\n",
    "\n",
    "    something after you can teleport to dungeon with all abilities\n",
    "\n",
    "hypnotism\n",
    "\n",
    "telepathy\n"
   ]
  },
  {
   "cell_type": "code",
   "execution_count": null,
   "metadata": {
    "collapsed": true
   },
   "outputs": [],
   "source": []
  }
 ],
 "metadata": {
  "anaconda-cloud": {},
  "kernelspec": {
   "display_name": "Python [default]",
   "language": "python",
   "name": "python2"
  },
  "language_info": {
   "codemirror_mode": {
    "name": "ipython",
    "version": 2
   },
   "file_extension": ".py",
   "mimetype": "text/x-python",
   "name": "python",
   "nbconvert_exporter": "python",
   "pygments_lexer": "ipython2",
   "version": "2.7.12"
  }
 },
 "nbformat": 4,
 "nbformat_minor": 1
}
