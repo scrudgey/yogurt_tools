{
 "cells": [
  {
   "cell_type": "markdown",
   "metadata": {},
   "source": [
    "# Mapping out the present state of the game"
   ]
  },
  {
   "cell_type": "code",
   "execution_count": 137,
   "metadata": {
    "collapsed": true
   },
   "outputs": [],
   "source": [
    "from IPython.core.interactiveshell import InteractiveShell\n",
    "InteractiveShell.ast_node_interactivity = \"all\"\n",
    "import puzz"
   ]
  },
  {
   "cell_type": "code",
   "execution_count": 138,
   "metadata": {
    "collapsed": true
   },
   "outputs": [],
   "source": [
    "net = puzz.Network(['normal', 'death exploit'])"
   ]
  },
  {
   "cell_type": "markdown",
   "metadata": {},
   "source": [
    "### planned nodes"
   ]
  },
  {
   "cell_type": "markdown",
   "metadata": {},
   "source": [
    "separate invulnerable and \"no physical damage\"\n",
    "asphyxiation vs. not\n",
    "\n",
    "how do you defeat a vampire?\n",
    "\n",
    "\"sneak past vampire\" and \"kill vampire\" separate?\n",
    "\n",
    "some powerful abilities still show up as possible and i suspect it's because i need to describe more possibilities. i need to come up with more obstacles for:\n",
    "\n",
    "invisibility\n",
    "nullification\n",
    "hypnosis\n",
    "\n",
    "\n",
    "more combined abilities\n",
    "\n",
    "\n",
    "\n",
    "can i incorporate rooms?"
   ]
  },
  {
   "cell_type": "code",
   "execution_count": 139,
   "metadata": {
    "collapsed": true
   },
   "outputs": [],
   "source": [
    "# current obstacles\n",
    "net.add_obstacle('cave1')\n",
    "net.add_obstacle('arrow trap')\n",
    "net.add_obstacle('knight')\n",
    "net.add_obstacle('volcano')\n",
    "net.add_obstacle('fireman')\n",
    "net.add_obstacle('farmer store')\n",
    "net.add_obstacle('eggplant commercial')\n",
    "net.add_obstacle('first commercial')\n",
    "\n",
    "# planned obstacles\n",
    "net.add_obstacle('locked door')\n",
    "net.add_obstacle('fast-moving target')\n",
    "net.add_obstacle('ethereal damage')\n",
    "net.add_obstacle('asphyxiation maze')\n",
    "net.add_obstacle('pit')\n",
    "net.add_obstacle('cliff')\n",
    "net.add_obstacle('small monsters')\n",
    "net.add_obstacle('binary tree of death')\n",
    "net.add_obstacle('large magnet')\n",
    "net.add_obstacle('fixed obstacle')\n",
    "net.add_obstacle('heavy obstacle')\n",
    "net.add_obstacle('large damage')\n",
    "net.add_obstacle('moon')\n",
    "net.add_obstacle('kill ethereal monster')\n",
    "net.add_obstacle('kill vampire')\n",
    "net.add_obstacle('dungeon')\n",
    "\n",
    "# current abilities\n",
    "net.add_ability('strength')\n",
    "net.add_ability('fireproof')\n",
    "net.add_ability('armor')\n",
    "net.add_ability('money')\n",
    "net.add_ability('eggplant')\n",
    "net.add_ability('duplicator')\n",
    "net.add_ability('hypnosis')\n",
    "net.add_ability('fireproof')\n",
    "\n",
    "# planned abilities\n",
    "net.add_ability('ethereal')\n",
    "net.add_ability('damage ethereal')\n",
    "net.add_ability('invulnerable')\n",
    "net.add_ability('invisible')\n",
    "net.add_ability('telepathy')\n",
    "net.add_ability('nullify')\n",
    "net.add_ability('elective vomit')\n",
    "net.add_ability('eat all')\n",
    "net.add_ability('spaceflight')\n",
    "net.add_ability('reanimate dead')\n",
    "net.add_ability('vampirism')\n",
    "net.add_ability('teleporter')\n",
    "net.add_ability('kick')"
   ]
  },
  {
   "cell_type": "code",
   "execution_count": 140,
   "metadata": {
    "collapsed": false
   },
   "outputs": [],
   "source": [
    "net.defeats('telepathy', 'binary tree of death')\n",
    "\n",
    "net.defeats(('elective vomit', 'eat all'), 'dungeon')\n",
    "\n",
    "net.defeats('normal', 'fireman')\n",
    "\n",
    "net.defeats('death exploit', 'cave1')\n",
    "\n",
    "net.defeats('armor', 'arrow trap')\n",
    "\n",
    "net.defeats('fireproof', 'volcano')\n",
    "\n",
    "net.defeats('strength', 'knight')\n",
    "net.defeats('strength', 'heavy obstacle')\n",
    "\n",
    "net.defeats('normal', 'first commercial')\n",
    "net.defeats('money', 'farmer store')\n",
    "net.defeats('eggplant', 'eggplant commercial')\n",
    "\n",
    "net.defeats(('teleporter', 'death exploit'), 'asphyxiation maze')\n",
    "\n",
    "net.defeats('vampirism', 'asphyxiation maze')\n",
    "\n",
    "net.defeats('spaceflight', 'moon')\n",
    "\n",
    "net.defeats('nullify', 'locked door')\n",
    "net.defeats('nullify', 'fast-moving target')\n",
    "net.defeats('nullify', 'knight')\n",
    "net.defeats('nullify', 'heavy obstacle')\n",
    "net.defeats('nullify', 'fixed obstacle')\n",
    "net.defeats('nullify', 'large magnet')\n",
    "\n",
    "net.defeats('telepathy', 'binary tree of death')\n",
    "\n",
    "net.defeats('invisible', 'knight')\n",
    "net.defeats('invisible', 'small monsters')\n",
    "\n",
    "net.defeats('damage ethereal', 'fireman')\n",
    "net.defeats('damage ethereal', 'knight')\n",
    "net.defeats('damage ethereal', 'small monsters')\n",
    "net.defeats('damage ethereal', 'kill ethereal monster')\n",
    "\n",
    "net.defeats('ethereal', 'locked door')\n",
    "net.defeats('ethereal', 'large damage')\n",
    "net.defeats('ethereal', 'knight')\n",
    "net.defeats('ethereal', 'fixed obstacle')\n",
    "net.defeats('ethereal', 'small monsters')\n",
    "net.defeats('ethereal', 'volcano')\n",
    "net.defeats('ethereal', 'arrow trap')\n",
    "\n",
    "net.defeats('hypnosis', 'knight')\n",
    "net.defeats('hypnosis', 'fireman')\n",
    "net.defeats('hypnosis', 'knight')\n",
    "\n",
    "net.defeats('invulnerable', 'knight')\n",
    "net.defeats('invulnerable', 'small monsters')\n",
    "net.defeats('invulnerable', 'ethereal damage')\n",
    "net.defeats('invulnerable', 'volcano')\n",
    "net.defeats('invulnerable', 'arrow trap')"
   ]
  },
  {
   "cell_type": "markdown",
   "metadata": {},
   "source": [
    "### the current layout of the game"
   ]
  },
  {
   "cell_type": "code",
   "execution_count": 141,
   "metadata": {
    "collapsed": false
   },
   "outputs": [],
   "source": [
    "net.add_connection('start', 'fireman')\n",
    "net.add_connection('fireman', 'fireproof')\n",
    "\n",
    "net.add_connection('start', 'volcano')\n",
    "net.add_connection('start', 'cave1')\n",
    "net.add_connection('start', 'first commercial')\n",
    "net.add_connection('first commercial', 'money')\n",
    "net.add_connection('start', 'farmer store')\n",
    "\n",
    "net.add_connection('farmer store', 'eggplant')\n",
    "net.add_connection('first commercial', 'eggplant commercial')\n",
    "net.add_connection('eggplant commercial', 'duplicator')\n",
    "\n",
    "net.add_connection('death exploit', 'cave1')\n",
    "net.add_connection('cave1', 'strength')\n",
    "net.add_connection('strength', 'knight')\n",
    "net.add_connection('knight', 'armor')\n",
    "net.add_connection('armor', 'arrow trap')\n",
    "\n",
    "net.add_connection('normal', 'fireman')\n",
    "net.add_connection('fireproof', 'volcano')"
   ]
  },
  {
   "cell_type": "code",
   "execution_count": 142,
   "metadata": {
    "collapsed": false
   },
   "outputs": [
    {
     "data": {
      "image/png": "[encoded data removed]",
      "text/plain": [
       "<matplotlib.figure.Figure at 0x11120fc90>"
      ]
     },
     "metadata": {},
     "output_type": "display_data"
    }
   ],
   "source": [
    "net.plot(spring=True)"
   ]
  },
  {
   "cell_type": "code",
   "execution_count": 143,
   "metadata": {
    "collapsed": false
   },
   "outputs": [
    {
     "data": {
      "text/plain": [
       "{'eat all': set(),\n",
       " 'elective vomit': set(),\n",
       " 'heavy obstacle': {'strength'},\n",
       " 'hypnosis': set(),\n",
       " 'invisible': set(),\n",
       " 'kick': set(),\n",
       " 'nullify': {'strength'},\n",
       " 'reanimate dead': set(),\n",
       " 'spaceflight': set(),\n",
       " 'telepathy': set(),\n",
       " 'teleporter': set(),\n",
       " 'vampirism': set()}"
      ]
     },
     "execution_count": 143,
     "metadata": {},
     "output_type": "execute_result"
    }
   ],
   "source": [
    "net.enabled_nodes('knight', suppress_live=True)"
   ]
  },
  {
   "cell_type": "code",
   "execution_count": 144,
   "metadata": {
    "collapsed": false
   },
   "outputs": [
    {
     "name": "stdout",
     "output_type": "stream",
     "text": [
      "locked abilities:\n"
     ]
    },
    {
     "data": {
      "text/plain": [
       "{'damage ethereal': {'hypnosis', 'invisible'},\n",
       " 'ethereal': {'invisible'},\n",
       " 'invulnerable': {'invisible'}}"
      ]
     },
     "execution_count": 144,
     "metadata": {},
     "output_type": "execute_result"
    },
    {
     "name": "stdout",
     "output_type": "stream",
     "text": [
      "unlocked abilities:\n"
     ]
    },
    {
     "data": {
      "text/plain": [
       "{'eat all',\n",
       " 'elective vomit',\n",
       " 'hypnosis',\n",
       " 'invisible',\n",
       " 'kick',\n",
       " 'nullify',\n",
       " 'reanimate dead',\n",
       " 'spaceflight',\n",
       " 'telepathy',\n",
       " 'teleporter',\n",
       " 'vampirism'}"
      ]
     },
     "execution_count": 144,
     "metadata": {},
     "output_type": "execute_result"
    },
    {
     "name": "stdout",
     "output_type": "stream",
     "text": [
      "\n",
      "locked obstacles that dont require locked abilities:\n"
     ]
    },
    {
     "data": {
      "text/plain": [
       "{'asphyxiation maze': {'vampirism', ('teleporter', 'death exploit')},\n",
       " 'binary tree of death': {'telepathy'},\n",
       " 'cliff': set(),\n",
       " 'dungeon': {('elective vomit', 'eat all')},\n",
       " 'fast-moving target': {'nullify'},\n",
       " 'fixed obstacle': {'ethereal', 'nullify'},\n",
       " 'kill vampire': set(),\n",
       " 'large magnet': {'nullify'},\n",
       " 'locked door': {'ethereal', 'nullify'},\n",
       " 'moon': {'spaceflight'},\n",
       " 'pit': set(),\n",
       " 'small monsters': {'damage ethereal',\n",
       "  'ethereal',\n",
       "  'invisible',\n",
       "  'invulnerable'},\n",
       " 'start': set()}"
      ]
     },
     "execution_count": 144,
     "metadata": {},
     "output_type": "execute_result"
    },
    {
     "name": "stdout",
     "output_type": "stream",
     "text": [
      "unlocked obstacles:\n"
     ]
    },
    {
     "data": {
      "text/plain": [
       "{'heavy obstacle'}"
      ]
     },
     "execution_count": 144,
     "metadata": {},
     "output_type": "execute_result"
    },
    {
     "name": "stdout",
     "output_type": "stream",
     "text": [
      "\n"
     ]
    }
   ],
   "source": [
    "print 'locked abilities:'\n",
    "net.locked_abilities()\n",
    "print 'unlocked abilities:'\n",
    "net.unlocked_abilities()\n",
    "print ''\n",
    "print 'locked obstacles that dont require locked abilities:'\n",
    "net.locked_obstacles()\n",
    "print 'unlocked obstacles:'\n",
    "net.unlocked_obstacles()\n",
    "print ''"
   ]
  },
  {
   "cell_type": "code",
   "execution_count": 145,
   "metadata": {
    "collapsed": false
   },
   "outputs": [],
   "source": [
    "# some way to specify that obstacle o2 comes after o1? (moon comes after asphyxiation maze?)\n",
    "# this is room-like behavior for nodes.\n",
    "\n",
    "# identify which abilities should be placed next based on what is required?\n",
    "# is there a sense of 'minimum required'? like, i know i could place ultimate deathtrap if only\n",
    "# invulnerability was in the game, but i'm not ready to put invulnerability yet\n",
    "# exclude eclipsed abilities?\n",
    "\n",
    "# speculate: what new things could I place if I place x?"
   ]
  },
  {
   "cell_type": "code",
   "execution_count": 146,
   "metadata": {
    "collapsed": false
   },
   "outputs": [
    {
     "name": "stdout",
     "output_type": "stream",
     "text": [
      "overlap:\n",
      "set(['knight', 'small monsters'])\n",
      "non overlap:\n"
     ]
    },
    {
     "data": {
      "text/plain": [
       "{'arrow trap', 'fixed obstacle', 'large damage', 'locked door', 'volcano'}"
      ]
     },
     "execution_count": 146,
     "metadata": {},
     "output_type": "execute_result"
    },
    {
     "name": "stdout",
     "output_type": "stream",
     "text": [
      "set(['spaceflight'])\n",
      "requirements for nullify are satisfied already.\n"
     ]
    }
   ],
   "source": [
    "net.compare('ethereal', 'invisible')\n",
    "\n",
    "net.required('moon')\n",
    "\n",
    "net.required('nullify')"
   ]
  },
  {
   "cell_type": "code",
   "execution_count": null,
   "metadata": {
    "collapsed": true
   },
   "outputs": [],
   "source": []
  }
 ],
 "metadata": {
  "anaconda-cloud": {},
  "celltoolbar": "Raw Cell Format",
  "kernelspec": {
   "display_name": "Python [default]",
   "language": "python",
   "name": "python2"
  },
  "language_info": {
   "codemirror_mode": {
    "name": "ipython",
    "version": 2
   },
   "file_extension": ".py",
   "mimetype": "text/x-python",
   "name": "python",
   "nbconvert_exporter": "python",
   "pygments_lexer": "ipython2",
   "version": "2.7.12"
  }
 },
 "nbformat": 4,
 "nbformat_minor": 1
}
