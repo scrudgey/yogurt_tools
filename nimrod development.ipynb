{
 "cells": [
  {
   "cell_type": "code",
   "execution_count": 1,
   "metadata": {
    "collapsed": false
   },
   "outputs": [],
   "source": [
    "import nimrod"
   ]
  },
  {
   "cell_type": "code",
   "execution_count": 2,
   "metadata": {
    "collapsed": true
   },
   "outputs": [],
   "source": [
    "g = nimrod.Grammar()"
   ]
  },
  {
   "cell_type": "code",
   "execution_count": 3,
   "metadata": {
    "collapsed": false
   },
   "outputs": [],
   "source": [
    "g.load('business')"
   ]
  },
  {
   "cell_type": "code",
   "execution_count": 4,
   "metadata": {
    "collapsed": false
   },
   "outputs": [
    {
     "name": "stdout",
     "output_type": "stream",
     "text": [
      "We are managing our synergy to rapidly quantify our virtual corporate dna.\n",
      "We are managing our business intelligence for the foreseeable future.\n",
      "We are rewriting our core process.\n",
      "We are siloing our agile processes.\n",
      "We are leveraging our agile processes to concurrently utilize quality.\n",
      "We are utilizing our business intelligence.\n",
      "We are siloing synergy.\n",
      "We are reorganizing our mission statement to activate our thought leadership.\n",
      "We are rethinking our core process.\n",
      "We are utilizing our business intelligence.\n",
      "\n",
      "I capitalize on our future customer base.\n",
      "I capitalize on our positioning in the market.\n",
      "I productize quarterly deliverables.\n",
      "I grow our future goals.\n",
      "I synergize with virtual sales numbers in my role as principal analyst.\n",
      "I capitalize on products when I'm not quantifying our company culture.\n",
      "I see real corporate dna.\n",
      "I grow our future quality.\n",
      "I utilize our real corporate dna.\n",
      "I activate virtual sales numbers in my role as senior analyst.\n"
     ]
    }
   ],
   "source": [
    "for i in range(10):\n",
    "    print(g.parse('{what}'))\n",
    "\n",
    "print('')\n",
    "\n",
    "for i in range(10):\n",
    "    print(g.parse('{what-i-do}'))"
   ]
  },
  {
   "cell_type": "code",
   "execution_count": 59,
   "metadata": {
    "collapsed": false
   },
   "outputs": [
    {
     "name": "stdout",
     "output_type": "stream",
     "text": [
      "How about I bash and bash your achilles tendon and eviscerate your leg!\n",
      "You can't stop me! That's a nice face. What would you do if you lost it in an \"accident\"!!\n",
      "You are trembling! How's your leg? I have half a mind to brutally crush and mangle it and throw it to the wolves!!!\n",
      "You are trembling! What a pitiful eyeball! It would be a shame if you woke up one day to find it removed from your person and shot into space!!! Don't test me, {gender}.\n",
      "You are trembling! Here I come to bash your achilles tendon and bury it nine feet deep and bash your leg! I have condemned you to a slow death. Bow before me!\n",
      "Ha ha ha ha ha! I am here to murder you like a pitiful gong farmer and chuck your body in an open manhole!!\n",
      "You churlish fool! I am here to mangle and disfigure your heart and crush your hand! What a scornful head! Time to forcefully bruise it and throw it to the wolves!! They call me the angel of death!\n",
      "You know me as your killer. I have powerfully consigned you unto death!! Don't test me, {gender}.\n",
      "You can't stop me! Here I come to permanently break your arm!\n",
      "How's your hand? What would you do if you lost it in an \"accident\". I have hired someone to kill you. Bow before me!\n"
     ]
    }
   ],
   "source": [
    "g.load('threat')\n",
    "\n",
    "for i in range(10):\n",
    "    print(g.parse('{threat}'))"
   ]
  },
  {
   "cell_type": "code",
   "execution_count": 8,
   "metadata": {
    "collapsed": false
   },
   "outputs": [
    {
     "data": {
      "text/plain": [
       "\"I hope I don't have to disfigure it\""
      ]
     },
     "execution_count": 8,
     "metadata": {},
     "output_type": "execute_result"
    }
   ],
   "source": [
    "g.parse('{i-dont-have-to} {do} it<0.5| {and-do-with-it}>')"
   ]
  },
  {
   "cell_type": "code",
   "execution_count": null,
   "metadata": {
    "collapsed": true
   },
   "outputs": [],
   "source": []
  }
 ],
 "metadata": {
  "anaconda-cloud": {},
  "kernelspec": {
   "display_name": "Python [conda root]",
   "language": "python",
   "name": "conda-root-py"
  },
  "language_info": {
   "codemirror_mode": {
    "name": "ipython",
    "version": 2
   },
   "file_extension": ".py",
   "mimetype": "text/x-python",
   "name": "python",
   "nbconvert_exporter": "python",
   "pygments_lexer": "ipython2",
   "version": "2.7.12"
  }
 },
 "nbformat": 4,
 "nbformat_minor": 1
}
